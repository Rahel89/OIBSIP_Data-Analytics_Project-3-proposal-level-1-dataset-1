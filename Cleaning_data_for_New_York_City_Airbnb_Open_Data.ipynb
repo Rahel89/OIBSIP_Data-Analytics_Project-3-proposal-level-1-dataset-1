{
  "nbformat": 4,
  "nbformat_minor": 0,
  "metadata": {
    "colab": {
      "provenance": []
    },
    "kernelspec": {
      "name": "python3",
      "display_name": "Python 3"
    },
    "language_info": {
      "name": "python"
    }
  },
  "cells": [
    {
      "cell_type": "code",
      "execution_count": null,
      "metadata": {
        "id": "K7Sh8-sgyEqd"
      },
      "outputs": [],
      "source": [
        "import pandas as pd\n",
        "import numpy as np\n",
        "import seaborn as sns\n",
        "import matplotlib.pyplot as plt"
      ]
    },
    {
      "cell_type": "code",
      "source": [
        "from google.colab import files\n",
        "uploaded = files.upload()"
      ],
      "metadata": {
        "colab": {
          "base_uri": "https://localhost:8080/",
          "height": 73
        },
        "id": "Ze0zvLaL1y5l",
        "outputId": "57544721-33ec-4b4e-f723-72741977674f"
      },
      "execution_count": null,
      "outputs": [
        {
          "output_type": "display_data",
          "data": {
            "text/plain": [
              "<IPython.core.display.HTML object>"
            ],
            "text/html": [
              "\n",
              "     <input type=\"file\" id=\"files-259c26d0-dde6-4ca2-bb59-cd78741f5e9c\" name=\"files[]\" multiple disabled\n",
              "        style=\"border:none\" />\n",
              "     <output id=\"result-259c26d0-dde6-4ca2-bb59-cd78741f5e9c\">\n",
              "      Upload widget is only available when the cell has been executed in the\n",
              "      current browser session. Please rerun this cell to enable.\n",
              "      </output>\n",
              "      <script>// Copyright 2017 Google LLC\n",
              "//\n",
              "// Licensed under the Apache License, Version 2.0 (the \"License\");\n",
              "// you may not use this file except in compliance with the License.\n",
              "// You may obtain a copy of the License at\n",
              "//\n",
              "//      http://www.apache.org/licenses/LICENSE-2.0\n",
              "//\n",
              "// Unless required by applicable law or agreed to in writing, software\n",
              "// distributed under the License is distributed on an \"AS IS\" BASIS,\n",
              "// WITHOUT WARRANTIES OR CONDITIONS OF ANY KIND, either express or implied.\n",
              "// See the License for the specific language governing permissions and\n",
              "// limitations under the License.\n",
              "\n",
              "/**\n",
              " * @fileoverview Helpers for google.colab Python module.\n",
              " */\n",
              "(function(scope) {\n",
              "function span(text, styleAttributes = {}) {\n",
              "  const element = document.createElement('span');\n",
              "  element.textContent = text;\n",
              "  for (const key of Object.keys(styleAttributes)) {\n",
              "    element.style[key] = styleAttributes[key];\n",
              "  }\n",
              "  return element;\n",
              "}\n",
              "\n",
              "// Max number of bytes which will be uploaded at a time.\n",
              "const MAX_PAYLOAD_SIZE = 100 * 1024;\n",
              "\n",
              "function _uploadFiles(inputId, outputId) {\n",
              "  const steps = uploadFilesStep(inputId, outputId);\n",
              "  const outputElement = document.getElementById(outputId);\n",
              "  // Cache steps on the outputElement to make it available for the next call\n",
              "  // to uploadFilesContinue from Python.\n",
              "  outputElement.steps = steps;\n",
              "\n",
              "  return _uploadFilesContinue(outputId);\n",
              "}\n",
              "\n",
              "// This is roughly an async generator (not supported in the browser yet),\n",
              "// where there are multiple asynchronous steps and the Python side is going\n",
              "// to poll for completion of each step.\n",
              "// This uses a Promise to block the python side on completion of each step,\n",
              "// then passes the result of the previous step as the input to the next step.\n",
              "function _uploadFilesContinue(outputId) {\n",
              "  const outputElement = document.getElementById(outputId);\n",
              "  const steps = outputElement.steps;\n",
              "\n",
              "  const next = steps.next(outputElement.lastPromiseValue);\n",
              "  return Promise.resolve(next.value.promise).then((value) => {\n",
              "    // Cache the last promise value to make it available to the next\n",
              "    // step of the generator.\n",
              "    outputElement.lastPromiseValue = value;\n",
              "    return next.value.response;\n",
              "  });\n",
              "}\n",
              "\n",
              "/**\n",
              " * Generator function which is called between each async step of the upload\n",
              " * process.\n",
              " * @param {string} inputId Element ID of the input file picker element.\n",
              " * @param {string} outputId Element ID of the output display.\n",
              " * @return {!Iterable<!Object>} Iterable of next steps.\n",
              " */\n",
              "function* uploadFilesStep(inputId, outputId) {\n",
              "  const inputElement = document.getElementById(inputId);\n",
              "  inputElement.disabled = false;\n",
              "\n",
              "  const outputElement = document.getElementById(outputId);\n",
              "  outputElement.innerHTML = '';\n",
              "\n",
              "  const pickedPromise = new Promise((resolve) => {\n",
              "    inputElement.addEventListener('change', (e) => {\n",
              "      resolve(e.target.files);\n",
              "    });\n",
              "  });\n",
              "\n",
              "  const cancel = document.createElement('button');\n",
              "  inputElement.parentElement.appendChild(cancel);\n",
              "  cancel.textContent = 'Cancel upload';\n",
              "  const cancelPromise = new Promise((resolve) => {\n",
              "    cancel.onclick = () => {\n",
              "      resolve(null);\n",
              "    };\n",
              "  });\n",
              "\n",
              "  // Wait for the user to pick the files.\n",
              "  const files = yield {\n",
              "    promise: Promise.race([pickedPromise, cancelPromise]),\n",
              "    response: {\n",
              "      action: 'starting',\n",
              "    }\n",
              "  };\n",
              "\n",
              "  cancel.remove();\n",
              "\n",
              "  // Disable the input element since further picks are not allowed.\n",
              "  inputElement.disabled = true;\n",
              "\n",
              "  if (!files) {\n",
              "    return {\n",
              "      response: {\n",
              "        action: 'complete',\n",
              "      }\n",
              "    };\n",
              "  }\n",
              "\n",
              "  for (const file of files) {\n",
              "    const li = document.createElement('li');\n",
              "    li.append(span(file.name, {fontWeight: 'bold'}));\n",
              "    li.append(span(\n",
              "        `(${file.type || 'n/a'}) - ${file.size} bytes, ` +\n",
              "        `last modified: ${\n",
              "            file.lastModifiedDate ? file.lastModifiedDate.toLocaleDateString() :\n",
              "                                    'n/a'} - `));\n",
              "    const percent = span('0% done');\n",
              "    li.appendChild(percent);\n",
              "\n",
              "    outputElement.appendChild(li);\n",
              "\n",
              "    const fileDataPromise = new Promise((resolve) => {\n",
              "      const reader = new FileReader();\n",
              "      reader.onload = (e) => {\n",
              "        resolve(e.target.result);\n",
              "      };\n",
              "      reader.readAsArrayBuffer(file);\n",
              "    });\n",
              "    // Wait for the data to be ready.\n",
              "    let fileData = yield {\n",
              "      promise: fileDataPromise,\n",
              "      response: {\n",
              "        action: 'continue',\n",
              "      }\n",
              "    };\n",
              "\n",
              "    // Use a chunked sending to avoid message size limits. See b/62115660.\n",
              "    let position = 0;\n",
              "    do {\n",
              "      const length = Math.min(fileData.byteLength - position, MAX_PAYLOAD_SIZE);\n",
              "      const chunk = new Uint8Array(fileData, position, length);\n",
              "      position += length;\n",
              "\n",
              "      const base64 = btoa(String.fromCharCode.apply(null, chunk));\n",
              "      yield {\n",
              "        response: {\n",
              "          action: 'append',\n",
              "          file: file.name,\n",
              "          data: base64,\n",
              "        },\n",
              "      };\n",
              "\n",
              "      let percentDone = fileData.byteLength === 0 ?\n",
              "          100 :\n",
              "          Math.round((position / fileData.byteLength) * 100);\n",
              "      percent.textContent = `${percentDone}% done`;\n",
              "\n",
              "    } while (position < fileData.byteLength);\n",
              "  }\n",
              "\n",
              "  // All done.\n",
              "  yield {\n",
              "    response: {\n",
              "      action: 'complete',\n",
              "    }\n",
              "  };\n",
              "}\n",
              "\n",
              "scope.google = scope.google || {};\n",
              "scope.google.colab = scope.google.colab || {};\n",
              "scope.google.colab._files = {\n",
              "  _uploadFiles,\n",
              "  _uploadFilesContinue,\n",
              "};\n",
              "})(self);\n",
              "</script> "
            ]
          },
          "metadata": {}
        },
        {
          "output_type": "stream",
          "name": "stdout",
          "text": [
            "Saving AB_NYC_2019.csv to AB_NYC_2019 (1).csv\n"
          ]
        }
      ]
    },
    {
      "cell_type": "code",
      "source": [
        "NYC = pd.read_csv('AB_NYC_2019.csv')"
      ],
      "metadata": {
        "id": "gjkuHwiC25f-"
      },
      "execution_count": null,
      "outputs": []
    },
    {
      "cell_type": "code",
      "source": [
        "print(NYC.columns)"
      ],
      "metadata": {
        "colab": {
          "base_uri": "https://localhost:8080/"
        },
        "id": "Tlb5dJOl3PZR",
        "outputId": "1e20c075-5c86-4c19-daff-9b5f1e1b0c26"
      },
      "execution_count": null,
      "outputs": [
        {
          "output_type": "stream",
          "name": "stdout",
          "text": [
            "Index(['id', 'name', 'host_id', 'host_name', 'neighbourhood_group',\n",
            "       'neighbourhood', 'latitude', 'longitude', 'room_type', 'price',\n",
            "       'minimum_nights', 'number_of_reviews', 'last_review',\n",
            "       'reviews_per_month', 'calculated_host_listings_count',\n",
            "       'availability_365'],\n",
            "      dtype='object')\n"
          ]
        }
      ]
    },
    {
      "cell_type": "code",
      "source": [
        "NYC.head()"
      ],
      "metadata": {
        "colab": {
          "base_uri": "https://localhost:8080/",
          "height": 417
        },
        "id": "llBNOKTA5fVi",
        "outputId": "0e92842c-da64-4501-bc0d-25f5fffaeedd"
      },
      "execution_count": null,
      "outputs": [
        {
          "output_type": "execute_result",
          "data": {
            "text/plain": [
              "     id                                              name  host_id  \\\n",
              "0  2539                Clean & quiet apt home by the park     2787   \n",
              "1  2595                             Skylit Midtown Castle     2845   \n",
              "2  3647               THE VILLAGE OF HARLEM....NEW YORK !     4632   \n",
              "3  3831                   Cozy Entire Floor of Brownstone     4869   \n",
              "4  5022  Entire Apt: Spacious Studio/Loft by central park     7192   \n",
              "\n",
              "     host_name neighbourhood_group neighbourhood  latitude  longitude  \\\n",
              "0         John            Brooklyn    Kensington  40.64749  -73.97237   \n",
              "1     Jennifer           Manhattan       Midtown  40.75362  -73.98377   \n",
              "2    Elisabeth           Manhattan        Harlem  40.80902  -73.94190   \n",
              "3  LisaRoxanne            Brooklyn  Clinton Hill  40.68514  -73.95976   \n",
              "4        Laura           Manhattan   East Harlem  40.79851  -73.94399   \n",
              "\n",
              "         room_type  price  minimum_nights  number_of_reviews last_review  \\\n",
              "0     Private room    149               1                  9  2018-10-19   \n",
              "1  Entire home/apt    225               1                 45  2019-05-21   \n",
              "2     Private room    150               3                  0         NaN   \n",
              "3  Entire home/apt     89               1                270  2019-07-05   \n",
              "4  Entire home/apt     80              10                  9  2018-11-19   \n",
              "\n",
              "   reviews_per_month  calculated_host_listings_count  availability_365  \n",
              "0               0.21                               6               365  \n",
              "1               0.38                               2               355  \n",
              "2                NaN                               1               365  \n",
              "3               4.64                               1               194  \n",
              "4               0.10                               1                 0  "
            ],
            "text/html": [
              "\n",
              "  <div id=\"df-990dc3ea-fd17-41a8-9197-6f914e4809dd\" class=\"colab-df-container\">\n",
              "    <div>\n",
              "<style scoped>\n",
              "    .dataframe tbody tr th:only-of-type {\n",
              "        vertical-align: middle;\n",
              "    }\n",
              "\n",
              "    .dataframe tbody tr th {\n",
              "        vertical-align: top;\n",
              "    }\n",
              "\n",
              "    .dataframe thead th {\n",
              "        text-align: right;\n",
              "    }\n",
              "</style>\n",
              "<table border=\"1\" class=\"dataframe\">\n",
              "  <thead>\n",
              "    <tr style=\"text-align: right;\">\n",
              "      <th></th>\n",
              "      <th>id</th>\n",
              "      <th>name</th>\n",
              "      <th>host_id</th>\n",
              "      <th>host_name</th>\n",
              "      <th>neighbourhood_group</th>\n",
              "      <th>neighbourhood</th>\n",
              "      <th>latitude</th>\n",
              "      <th>longitude</th>\n",
              "      <th>room_type</th>\n",
              "      <th>price</th>\n",
              "      <th>minimum_nights</th>\n",
              "      <th>number_of_reviews</th>\n",
              "      <th>last_review</th>\n",
              "      <th>reviews_per_month</th>\n",
              "      <th>calculated_host_listings_count</th>\n",
              "      <th>availability_365</th>\n",
              "    </tr>\n",
              "  </thead>\n",
              "  <tbody>\n",
              "    <tr>\n",
              "      <th>0</th>\n",
              "      <td>2539</td>\n",
              "      <td>Clean &amp; quiet apt home by the park</td>\n",
              "      <td>2787</td>\n",
              "      <td>John</td>\n",
              "      <td>Brooklyn</td>\n",
              "      <td>Kensington</td>\n",
              "      <td>40.64749</td>\n",
              "      <td>-73.97237</td>\n",
              "      <td>Private room</td>\n",
              "      <td>149</td>\n",
              "      <td>1</td>\n",
              "      <td>9</td>\n",
              "      <td>2018-10-19</td>\n",
              "      <td>0.21</td>\n",
              "      <td>6</td>\n",
              "      <td>365</td>\n",
              "    </tr>\n",
              "    <tr>\n",
              "      <th>1</th>\n",
              "      <td>2595</td>\n",
              "      <td>Skylit Midtown Castle</td>\n",
              "      <td>2845</td>\n",
              "      <td>Jennifer</td>\n",
              "      <td>Manhattan</td>\n",
              "      <td>Midtown</td>\n",
              "      <td>40.75362</td>\n",
              "      <td>-73.98377</td>\n",
              "      <td>Entire home/apt</td>\n",
              "      <td>225</td>\n",
              "      <td>1</td>\n",
              "      <td>45</td>\n",
              "      <td>2019-05-21</td>\n",
              "      <td>0.38</td>\n",
              "      <td>2</td>\n",
              "      <td>355</td>\n",
              "    </tr>\n",
              "    <tr>\n",
              "      <th>2</th>\n",
              "      <td>3647</td>\n",
              "      <td>THE VILLAGE OF HARLEM....NEW YORK !</td>\n",
              "      <td>4632</td>\n",
              "      <td>Elisabeth</td>\n",
              "      <td>Manhattan</td>\n",
              "      <td>Harlem</td>\n",
              "      <td>40.80902</td>\n",
              "      <td>-73.94190</td>\n",
              "      <td>Private room</td>\n",
              "      <td>150</td>\n",
              "      <td>3</td>\n",
              "      <td>0</td>\n",
              "      <td>NaN</td>\n",
              "      <td>NaN</td>\n",
              "      <td>1</td>\n",
              "      <td>365</td>\n",
              "    </tr>\n",
              "    <tr>\n",
              "      <th>3</th>\n",
              "      <td>3831</td>\n",
              "      <td>Cozy Entire Floor of Brownstone</td>\n",
              "      <td>4869</td>\n",
              "      <td>LisaRoxanne</td>\n",
              "      <td>Brooklyn</td>\n",
              "      <td>Clinton Hill</td>\n",
              "      <td>40.68514</td>\n",
              "      <td>-73.95976</td>\n",
              "      <td>Entire home/apt</td>\n",
              "      <td>89</td>\n",
              "      <td>1</td>\n",
              "      <td>270</td>\n",
              "      <td>2019-07-05</td>\n",
              "      <td>4.64</td>\n",
              "      <td>1</td>\n",
              "      <td>194</td>\n",
              "    </tr>\n",
              "    <tr>\n",
              "      <th>4</th>\n",
              "      <td>5022</td>\n",
              "      <td>Entire Apt: Spacious Studio/Loft by central park</td>\n",
              "      <td>7192</td>\n",
              "      <td>Laura</td>\n",
              "      <td>Manhattan</td>\n",
              "      <td>East Harlem</td>\n",
              "      <td>40.79851</td>\n",
              "      <td>-73.94399</td>\n",
              "      <td>Entire home/apt</td>\n",
              "      <td>80</td>\n",
              "      <td>10</td>\n",
              "      <td>9</td>\n",
              "      <td>2018-11-19</td>\n",
              "      <td>0.10</td>\n",
              "      <td>1</td>\n",
              "      <td>0</td>\n",
              "    </tr>\n",
              "  </tbody>\n",
              "</table>\n",
              "</div>\n",
              "    <div class=\"colab-df-buttons\">\n",
              "\n",
              "  <div class=\"colab-df-container\">\n",
              "    <button class=\"colab-df-convert\" onclick=\"convertToInteractive('df-990dc3ea-fd17-41a8-9197-6f914e4809dd')\"\n",
              "            title=\"Convert this dataframe to an interactive table.\"\n",
              "            style=\"display:none;\">\n",
              "\n",
              "  <svg xmlns=\"http://www.w3.org/2000/svg\" height=\"24px\" viewBox=\"0 -960 960 960\">\n",
              "    <path d=\"M120-120v-720h720v720H120Zm60-500h600v-160H180v160Zm220 220h160v-160H400v160Zm0 220h160v-160H400v160ZM180-400h160v-160H180v160Zm440 0h160v-160H620v160ZM180-180h160v-160H180v160Zm440 0h160v-160H620v160Z\"/>\n",
              "  </svg>\n",
              "    </button>\n",
              "\n",
              "  <style>\n",
              "    .colab-df-container {\n",
              "      display:flex;\n",
              "      gap: 12px;\n",
              "    }\n",
              "\n",
              "    .colab-df-convert {\n",
              "      background-color: #E8F0FE;\n",
              "      border: none;\n",
              "      border-radius: 50%;\n",
              "      cursor: pointer;\n",
              "      display: none;\n",
              "      fill: #1967D2;\n",
              "      height: 32px;\n",
              "      padding: 0 0 0 0;\n",
              "      width: 32px;\n",
              "    }\n",
              "\n",
              "    .colab-df-convert:hover {\n",
              "      background-color: #E2EBFA;\n",
              "      box-shadow: 0px 1px 2px rgba(60, 64, 67, 0.3), 0px 1px 3px 1px rgba(60, 64, 67, 0.15);\n",
              "      fill: #174EA6;\n",
              "    }\n",
              "\n",
              "    .colab-df-buttons div {\n",
              "      margin-bottom: 4px;\n",
              "    }\n",
              "\n",
              "    [theme=dark] .colab-df-convert {\n",
              "      background-color: #3B4455;\n",
              "      fill: #D2E3FC;\n",
              "    }\n",
              "\n",
              "    [theme=dark] .colab-df-convert:hover {\n",
              "      background-color: #434B5C;\n",
              "      box-shadow: 0px 1px 3px 1px rgba(0, 0, 0, 0.15);\n",
              "      filter: drop-shadow(0px 1px 2px rgba(0, 0, 0, 0.3));\n",
              "      fill: #FFFFFF;\n",
              "    }\n",
              "  </style>\n",
              "\n",
              "    <script>\n",
              "      const buttonEl =\n",
              "        document.querySelector('#df-990dc3ea-fd17-41a8-9197-6f914e4809dd button.colab-df-convert');\n",
              "      buttonEl.style.display =\n",
              "        google.colab.kernel.accessAllowed ? 'block' : 'none';\n",
              "\n",
              "      async function convertToInteractive(key) {\n",
              "        const element = document.querySelector('#df-990dc3ea-fd17-41a8-9197-6f914e4809dd');\n",
              "        const dataTable =\n",
              "          await google.colab.kernel.invokeFunction('convertToInteractive',\n",
              "                                                    [key], {});\n",
              "        if (!dataTable) return;\n",
              "\n",
              "        const docLinkHtml = 'Like what you see? Visit the ' +\n",
              "          '<a target=\"_blank\" href=https://colab.research.google.com/notebooks/data_table.ipynb>data table notebook</a>'\n",
              "          + ' to learn more about interactive tables.';\n",
              "        element.innerHTML = '';\n",
              "        dataTable['output_type'] = 'display_data';\n",
              "        await google.colab.output.renderOutput(dataTable, element);\n",
              "        const docLink = document.createElement('div');\n",
              "        docLink.innerHTML = docLinkHtml;\n",
              "        element.appendChild(docLink);\n",
              "      }\n",
              "    </script>\n",
              "  </div>\n",
              "\n",
              "\n",
              "<div id=\"df-abd396b4-5ed4-4787-acb6-3c07bd6df50b\">\n",
              "  <button class=\"colab-df-quickchart\" onclick=\"quickchart('df-abd396b4-5ed4-4787-acb6-3c07bd6df50b')\"\n",
              "            title=\"Suggest charts\"\n",
              "            style=\"display:none;\">\n",
              "\n",
              "<svg xmlns=\"http://www.w3.org/2000/svg\" height=\"24px\"viewBox=\"0 0 24 24\"\n",
              "     width=\"24px\">\n",
              "    <g>\n",
              "        <path d=\"M19 3H5c-1.1 0-2 .9-2 2v14c0 1.1.9 2 2 2h14c1.1 0 2-.9 2-2V5c0-1.1-.9-2-2-2zM9 17H7v-7h2v7zm4 0h-2V7h2v10zm4 0h-2v-4h2v4z\"/>\n",
              "    </g>\n",
              "</svg>\n",
              "  </button>\n",
              "\n",
              "<style>\n",
              "  .colab-df-quickchart {\n",
              "      --bg-color: #E8F0FE;\n",
              "      --fill-color: #1967D2;\n",
              "      --hover-bg-color: #E2EBFA;\n",
              "      --hover-fill-color: #174EA6;\n",
              "      --disabled-fill-color: #AAA;\n",
              "      --disabled-bg-color: #DDD;\n",
              "  }\n",
              "\n",
              "  [theme=dark] .colab-df-quickchart {\n",
              "      --bg-color: #3B4455;\n",
              "      --fill-color: #D2E3FC;\n",
              "      --hover-bg-color: #434B5C;\n",
              "      --hover-fill-color: #FFFFFF;\n",
              "      --disabled-bg-color: #3B4455;\n",
              "      --disabled-fill-color: #666;\n",
              "  }\n",
              "\n",
              "  .colab-df-quickchart {\n",
              "    background-color: var(--bg-color);\n",
              "    border: none;\n",
              "    border-radius: 50%;\n",
              "    cursor: pointer;\n",
              "    display: none;\n",
              "    fill: var(--fill-color);\n",
              "    height: 32px;\n",
              "    padding: 0;\n",
              "    width: 32px;\n",
              "  }\n",
              "\n",
              "  .colab-df-quickchart:hover {\n",
              "    background-color: var(--hover-bg-color);\n",
              "    box-shadow: 0 1px 2px rgba(60, 64, 67, 0.3), 0 1px 3px 1px rgba(60, 64, 67, 0.15);\n",
              "    fill: var(--button-hover-fill-color);\n",
              "  }\n",
              "\n",
              "  .colab-df-quickchart-complete:disabled,\n",
              "  .colab-df-quickchart-complete:disabled:hover {\n",
              "    background-color: var(--disabled-bg-color);\n",
              "    fill: var(--disabled-fill-color);\n",
              "    box-shadow: none;\n",
              "  }\n",
              "\n",
              "  .colab-df-spinner {\n",
              "    border: 2px solid var(--fill-color);\n",
              "    border-color: transparent;\n",
              "    border-bottom-color: var(--fill-color);\n",
              "    animation:\n",
              "      spin 1s steps(1) infinite;\n",
              "  }\n",
              "\n",
              "  @keyframes spin {\n",
              "    0% {\n",
              "      border-color: transparent;\n",
              "      border-bottom-color: var(--fill-color);\n",
              "      border-left-color: var(--fill-color);\n",
              "    }\n",
              "    20% {\n",
              "      border-color: transparent;\n",
              "      border-left-color: var(--fill-color);\n",
              "      border-top-color: var(--fill-color);\n",
              "    }\n",
              "    30% {\n",
              "      border-color: transparent;\n",
              "      border-left-color: var(--fill-color);\n",
              "      border-top-color: var(--fill-color);\n",
              "      border-right-color: var(--fill-color);\n",
              "    }\n",
              "    40% {\n",
              "      border-color: transparent;\n",
              "      border-right-color: var(--fill-color);\n",
              "      border-top-color: var(--fill-color);\n",
              "    }\n",
              "    60% {\n",
              "      border-color: transparent;\n",
              "      border-right-color: var(--fill-color);\n",
              "    }\n",
              "    80% {\n",
              "      border-color: transparent;\n",
              "      border-right-color: var(--fill-color);\n",
              "      border-bottom-color: var(--fill-color);\n",
              "    }\n",
              "    90% {\n",
              "      border-color: transparent;\n",
              "      border-bottom-color: var(--fill-color);\n",
              "    }\n",
              "  }\n",
              "</style>\n",
              "\n",
              "  <script>\n",
              "    async function quickchart(key) {\n",
              "      const quickchartButtonEl =\n",
              "        document.querySelector('#' + key + ' button');\n",
              "      quickchartButtonEl.disabled = true;  // To prevent multiple clicks.\n",
              "      quickchartButtonEl.classList.add('colab-df-spinner');\n",
              "      try {\n",
              "        const charts = await google.colab.kernel.invokeFunction(\n",
              "            'suggestCharts', [key], {});\n",
              "      } catch (error) {\n",
              "        console.error('Error during call to suggestCharts:', error);\n",
              "      }\n",
              "      quickchartButtonEl.classList.remove('colab-df-spinner');\n",
              "      quickchartButtonEl.classList.add('colab-df-quickchart-complete');\n",
              "    }\n",
              "    (() => {\n",
              "      let quickchartButtonEl =\n",
              "        document.querySelector('#df-abd396b4-5ed4-4787-acb6-3c07bd6df50b button');\n",
              "      quickchartButtonEl.style.display =\n",
              "        google.colab.kernel.accessAllowed ? 'block' : 'none';\n",
              "    })();\n",
              "  </script>\n",
              "</div>\n",
              "\n",
              "    </div>\n",
              "  </div>\n"
            ],
            "application/vnd.google.colaboratory.intrinsic+json": {
              "type": "dataframe",
              "variable_name": "NYC",
              "summary": "{\n  \"name\": \"NYC\",\n  \"rows\": 48895,\n  \"fields\": [\n    {\n      \"column\": \"id\",\n      \"properties\": {\n        \"dtype\": \"number\",\n        \"std\": 10983108,\n        \"min\": 2539,\n        \"max\": 36487245,\n        \"num_unique_values\": 48895,\n        \"samples\": [\n          317905,\n          34205267,\n          12342297\n        ],\n        \"semantic_type\": \"\",\n        \"description\": \"\"\n      }\n    },\n    {\n      \"column\": \"name\",\n      \"properties\": {\n        \"dtype\": \"string\",\n        \"num_unique_values\": 47905,\n        \"samples\": [\n          \"Luxurious Penthouse 3bed/2bath Apt w/Gym, Doorman\",\n          \"MANHATTAN LIVING!\",\n          \"Wonderful private room near Two Bridges II\"\n        ],\n        \"semantic_type\": \"\",\n        \"description\": \"\"\n      }\n    },\n    {\n      \"column\": \"host_id\",\n      \"properties\": {\n        \"dtype\": \"number\",\n        \"std\": 78610967,\n        \"min\": 2438,\n        \"max\": 274321313,\n        \"num_unique_values\": 37457,\n        \"samples\": [\n          1504257,\n          5592151,\n          208938947\n        ],\n        \"semantic_type\": \"\",\n        \"description\": \"\"\n      }\n    },\n    {\n      \"column\": \"host_name\",\n      \"properties\": {\n        \"dtype\": \"category\",\n        \"num_unique_values\": 11452,\n        \"samples\": [\n          \"Eki\",\n          \"Laine\",\n          \"Elen\"\n        ],\n        \"semantic_type\": \"\",\n        \"description\": \"\"\n      }\n    },\n    {\n      \"column\": \"neighbourhood_group\",\n      \"properties\": {\n        \"dtype\": \"category\",\n        \"num_unique_values\": 5,\n        \"samples\": [\n          \"Manhattan\",\n          \"Bronx\",\n          \"Queens\"\n        ],\n        \"semantic_type\": \"\",\n        \"description\": \"\"\n      }\n    },\n    {\n      \"column\": \"neighbourhood\",\n      \"properties\": {\n        \"dtype\": \"category\",\n        \"num_unique_values\": 221,\n        \"samples\": [\n          \"Stuyvesant Town\",\n          \"Eltingville\",\n          \"Stapleton\"\n        ],\n        \"semantic_type\": \"\",\n        \"description\": \"\"\n      }\n    },\n    {\n      \"column\": \"latitude\",\n      \"properties\": {\n        \"dtype\": \"number\",\n        \"std\": 0.054530078057371895,\n        \"min\": 40.49979,\n        \"max\": 40.91306,\n        \"num_unique_values\": 19048,\n        \"samples\": [\n          40.75913,\n          40.68314,\n          40.72126\n        ],\n        \"semantic_type\": \"\",\n        \"description\": \"\"\n      }\n    },\n    {\n      \"column\": \"longitude\",\n      \"properties\": {\n        \"dtype\": \"number\",\n        \"std\": 0.04615673610637182,\n        \"min\": -74.24442,\n        \"max\": -73.71299,\n        \"num_unique_values\": 14718,\n        \"samples\": [\n          -73.88892,\n          -73.87851,\n          -73.97175\n        ],\n        \"semantic_type\": \"\",\n        \"description\": \"\"\n      }\n    },\n    {\n      \"column\": \"room_type\",\n      \"properties\": {\n        \"dtype\": \"category\",\n        \"num_unique_values\": 3,\n        \"samples\": [\n          \"Private room\",\n          \"Entire home/apt\",\n          \"Shared room\"\n        ],\n        \"semantic_type\": \"\",\n        \"description\": \"\"\n      }\n    },\n    {\n      \"column\": \"price\",\n      \"properties\": {\n        \"dtype\": \"number\",\n        \"std\": 240,\n        \"min\": 0,\n        \"max\": 10000,\n        \"num_unique_values\": 674,\n        \"samples\": [\n          519,\n          675,\n          488\n        ],\n        \"semantic_type\": \"\",\n        \"description\": \"\"\n      }\n    },\n    {\n      \"column\": \"minimum_nights\",\n      \"properties\": {\n        \"dtype\": \"number\",\n        \"std\": 20,\n        \"min\": 1,\n        \"max\": 1250,\n        \"num_unique_values\": 109,\n        \"samples\": [\n          160,\n          60,\n          2\n        ],\n        \"semantic_type\": \"\",\n        \"description\": \"\"\n      }\n    },\n    {\n      \"column\": \"number_of_reviews\",\n      \"properties\": {\n        \"dtype\": \"number\",\n        \"std\": 44,\n        \"min\": 0,\n        \"max\": 629,\n        \"num_unique_values\": 394,\n        \"samples\": [\n          12,\n          144,\n          314\n        ],\n        \"semantic_type\": \"\",\n        \"description\": \"\"\n      }\n    },\n    {\n      \"column\": \"last_review\",\n      \"properties\": {\n        \"dtype\": \"object\",\n        \"num_unique_values\": 1764,\n        \"samples\": [\n          \"2016-07-26\",\n          \"2018-05-21\",\n          \"2019-02-27\"\n        ],\n        \"semantic_type\": \"\",\n        \"description\": \"\"\n      }\n    },\n    {\n      \"column\": \"reviews_per_month\",\n      \"properties\": {\n        \"dtype\": \"number\",\n        \"std\": 1.6804419952744627,\n        \"min\": 0.01,\n        \"max\": 58.5,\n        \"num_unique_values\": 937,\n        \"samples\": [\n          1.7,\n          0.28,\n          2.14\n        ],\n        \"semantic_type\": \"\",\n        \"description\": \"\"\n      }\n    },\n    {\n      \"column\": \"calculated_host_listings_count\",\n      \"properties\": {\n        \"dtype\": \"number\",\n        \"std\": 32,\n        \"min\": 1,\n        \"max\": 327,\n        \"num_unique_values\": 47,\n        \"samples\": [\n          37,\n          17,\n          121\n        ],\n        \"semantic_type\": \"\",\n        \"description\": \"\"\n      }\n    },\n    {\n      \"column\": \"availability_365\",\n      \"properties\": {\n        \"dtype\": \"number\",\n        \"std\": 131,\n        \"min\": 0,\n        \"max\": 365,\n        \"num_unique_values\": 366,\n        \"samples\": [\n          335,\n          309,\n          249\n        ],\n        \"semantic_type\": \"\",\n        \"description\": \"\"\n      }\n    }\n  ]\n}"
            }
          },
          "metadata": {},
          "execution_count": 6
        }
      ]
    },
    {
      "cell_type": "code",
      "source": [
        "NYC.info()"
      ],
      "metadata": {
        "colab": {
          "base_uri": "https://localhost:8080/"
        },
        "id": "r6I9Fid_6E6O",
        "outputId": "0dde2ca9-206c-4e9c-966e-6d8f40256c2f"
      },
      "execution_count": null,
      "outputs": [
        {
          "output_type": "stream",
          "name": "stdout",
          "text": [
            "<class 'pandas.core.frame.DataFrame'>\n",
            "RangeIndex: 48895 entries, 0 to 48894\n",
            "Data columns (total 16 columns):\n",
            " #   Column                          Non-Null Count  Dtype  \n",
            "---  ------                          --------------  -----  \n",
            " 0   id                              48895 non-null  int64  \n",
            " 1   name                            48879 non-null  object \n",
            " 2   host_id                         48895 non-null  int64  \n",
            " 3   host_name                       48874 non-null  object \n",
            " 4   neighbourhood_group             48895 non-null  object \n",
            " 5   neighbourhood                   48895 non-null  object \n",
            " 6   latitude                        48895 non-null  float64\n",
            " 7   longitude                       48895 non-null  float64\n",
            " 8   room_type                       48895 non-null  object \n",
            " 9   price                           48895 non-null  int64  \n",
            " 10  minimum_nights                  48895 non-null  int64  \n",
            " 11  number_of_reviews               48895 non-null  int64  \n",
            " 12  last_review                     38843 non-null  object \n",
            " 13  reviews_per_month               38843 non-null  float64\n",
            " 14  calculated_host_listings_count  48895 non-null  int64  \n",
            " 15  availability_365                48895 non-null  int64  \n",
            "dtypes: float64(3), int64(7), object(6)\n",
            "memory usage: 6.0+ MB\n"
          ]
        }
      ]
    },
    {
      "cell_type": "code",
      "source": [
        "NYC.describe()"
      ],
      "metadata": {
        "colab": {
          "base_uri": "https://localhost:8080/",
          "height": 320
        },
        "id": "EM5U1jv66p1o",
        "outputId": "f894d789-d5ac-47c2-c244-fa7b41e6d757"
      },
      "execution_count": null,
      "outputs": [
        {
          "output_type": "execute_result",
          "data": {
            "text/plain": [
              "                 id       host_id      latitude     longitude         price  \\\n",
              "count  4.889500e+04  4.889500e+04  48895.000000  48895.000000  48895.000000   \n",
              "mean   1.901714e+07  6.762001e+07     40.728949    -73.952170    152.720687   \n",
              "std    1.098311e+07  7.861097e+07      0.054530      0.046157    240.154170   \n",
              "min    2.539000e+03  2.438000e+03     40.499790    -74.244420      0.000000   \n",
              "25%    9.471945e+06  7.822033e+06     40.690100    -73.983070     69.000000   \n",
              "50%    1.967728e+07  3.079382e+07     40.723070    -73.955680    106.000000   \n",
              "75%    2.915218e+07  1.074344e+08     40.763115    -73.936275    175.000000   \n",
              "max    3.648724e+07  2.743213e+08     40.913060    -73.712990  10000.000000   \n",
              "\n",
              "       minimum_nights  number_of_reviews  reviews_per_month  \\\n",
              "count    48895.000000       48895.000000       38843.000000   \n",
              "mean         7.029962          23.274466           1.373221   \n",
              "std         20.510550          44.550582           1.680442   \n",
              "min          1.000000           0.000000           0.010000   \n",
              "25%          1.000000           1.000000           0.190000   \n",
              "50%          3.000000           5.000000           0.720000   \n",
              "75%          5.000000          24.000000           2.020000   \n",
              "max       1250.000000         629.000000          58.500000   \n",
              "\n",
              "       calculated_host_listings_count  availability_365  \n",
              "count                    48895.000000      48895.000000  \n",
              "mean                         7.143982        112.781327  \n",
              "std                         32.952519        131.622289  \n",
              "min                          1.000000          0.000000  \n",
              "25%                          1.000000          0.000000  \n",
              "50%                          1.000000         45.000000  \n",
              "75%                          2.000000        227.000000  \n",
              "max                        327.000000        365.000000  "
            ],
            "text/html": [
              "\n",
              "  <div id=\"df-93eb4942-9f54-45f8-8d78-1cb329b8120b\" class=\"colab-df-container\">\n",
              "    <div>\n",
              "<style scoped>\n",
              "    .dataframe tbody tr th:only-of-type {\n",
              "        vertical-align: middle;\n",
              "    }\n",
              "\n",
              "    .dataframe tbody tr th {\n",
              "        vertical-align: top;\n",
              "    }\n",
              "\n",
              "    .dataframe thead th {\n",
              "        text-align: right;\n",
              "    }\n",
              "</style>\n",
              "<table border=\"1\" class=\"dataframe\">\n",
              "  <thead>\n",
              "    <tr style=\"text-align: right;\">\n",
              "      <th></th>\n",
              "      <th>id</th>\n",
              "      <th>host_id</th>\n",
              "      <th>latitude</th>\n",
              "      <th>longitude</th>\n",
              "      <th>price</th>\n",
              "      <th>minimum_nights</th>\n",
              "      <th>number_of_reviews</th>\n",
              "      <th>reviews_per_month</th>\n",
              "      <th>calculated_host_listings_count</th>\n",
              "      <th>availability_365</th>\n",
              "    </tr>\n",
              "  </thead>\n",
              "  <tbody>\n",
              "    <tr>\n",
              "      <th>count</th>\n",
              "      <td>4.889500e+04</td>\n",
              "      <td>4.889500e+04</td>\n",
              "      <td>48895.000000</td>\n",
              "      <td>48895.000000</td>\n",
              "      <td>48895.000000</td>\n",
              "      <td>48895.000000</td>\n",
              "      <td>48895.000000</td>\n",
              "      <td>38843.000000</td>\n",
              "      <td>48895.000000</td>\n",
              "      <td>48895.000000</td>\n",
              "    </tr>\n",
              "    <tr>\n",
              "      <th>mean</th>\n",
              "      <td>1.901714e+07</td>\n",
              "      <td>6.762001e+07</td>\n",
              "      <td>40.728949</td>\n",
              "      <td>-73.952170</td>\n",
              "      <td>152.720687</td>\n",
              "      <td>7.029962</td>\n",
              "      <td>23.274466</td>\n",
              "      <td>1.373221</td>\n",
              "      <td>7.143982</td>\n",
              "      <td>112.781327</td>\n",
              "    </tr>\n",
              "    <tr>\n",
              "      <th>std</th>\n",
              "      <td>1.098311e+07</td>\n",
              "      <td>7.861097e+07</td>\n",
              "      <td>0.054530</td>\n",
              "      <td>0.046157</td>\n",
              "      <td>240.154170</td>\n",
              "      <td>20.510550</td>\n",
              "      <td>44.550582</td>\n",
              "      <td>1.680442</td>\n",
              "      <td>32.952519</td>\n",
              "      <td>131.622289</td>\n",
              "    </tr>\n",
              "    <tr>\n",
              "      <th>min</th>\n",
              "      <td>2.539000e+03</td>\n",
              "      <td>2.438000e+03</td>\n",
              "      <td>40.499790</td>\n",
              "      <td>-74.244420</td>\n",
              "      <td>0.000000</td>\n",
              "      <td>1.000000</td>\n",
              "      <td>0.000000</td>\n",
              "      <td>0.010000</td>\n",
              "      <td>1.000000</td>\n",
              "      <td>0.000000</td>\n",
              "    </tr>\n",
              "    <tr>\n",
              "      <th>25%</th>\n",
              "      <td>9.471945e+06</td>\n",
              "      <td>7.822033e+06</td>\n",
              "      <td>40.690100</td>\n",
              "      <td>-73.983070</td>\n",
              "      <td>69.000000</td>\n",
              "      <td>1.000000</td>\n",
              "      <td>1.000000</td>\n",
              "      <td>0.190000</td>\n",
              "      <td>1.000000</td>\n",
              "      <td>0.000000</td>\n",
              "    </tr>\n",
              "    <tr>\n",
              "      <th>50%</th>\n",
              "      <td>1.967728e+07</td>\n",
              "      <td>3.079382e+07</td>\n",
              "      <td>40.723070</td>\n",
              "      <td>-73.955680</td>\n",
              "      <td>106.000000</td>\n",
              "      <td>3.000000</td>\n",
              "      <td>5.000000</td>\n",
              "      <td>0.720000</td>\n",
              "      <td>1.000000</td>\n",
              "      <td>45.000000</td>\n",
              "    </tr>\n",
              "    <tr>\n",
              "      <th>75%</th>\n",
              "      <td>2.915218e+07</td>\n",
              "      <td>1.074344e+08</td>\n",
              "      <td>40.763115</td>\n",
              "      <td>-73.936275</td>\n",
              "      <td>175.000000</td>\n",
              "      <td>5.000000</td>\n",
              "      <td>24.000000</td>\n",
              "      <td>2.020000</td>\n",
              "      <td>2.000000</td>\n",
              "      <td>227.000000</td>\n",
              "    </tr>\n",
              "    <tr>\n",
              "      <th>max</th>\n",
              "      <td>3.648724e+07</td>\n",
              "      <td>2.743213e+08</td>\n",
              "      <td>40.913060</td>\n",
              "      <td>-73.712990</td>\n",
              "      <td>10000.000000</td>\n",
              "      <td>1250.000000</td>\n",
              "      <td>629.000000</td>\n",
              "      <td>58.500000</td>\n",
              "      <td>327.000000</td>\n",
              "      <td>365.000000</td>\n",
              "    </tr>\n",
              "  </tbody>\n",
              "</table>\n",
              "</div>\n",
              "    <div class=\"colab-df-buttons\">\n",
              "\n",
              "  <div class=\"colab-df-container\">\n",
              "    <button class=\"colab-df-convert\" onclick=\"convertToInteractive('df-93eb4942-9f54-45f8-8d78-1cb329b8120b')\"\n",
              "            title=\"Convert this dataframe to an interactive table.\"\n",
              "            style=\"display:none;\">\n",
              "\n",
              "  <svg xmlns=\"http://www.w3.org/2000/svg\" height=\"24px\" viewBox=\"0 -960 960 960\">\n",
              "    <path d=\"M120-120v-720h720v720H120Zm60-500h600v-160H180v160Zm220 220h160v-160H400v160Zm0 220h160v-160H400v160ZM180-400h160v-160H180v160Zm440 0h160v-160H620v160ZM180-180h160v-160H180v160Zm440 0h160v-160H620v160Z\"/>\n",
              "  </svg>\n",
              "    </button>\n",
              "\n",
              "  <style>\n",
              "    .colab-df-container {\n",
              "      display:flex;\n",
              "      gap: 12px;\n",
              "    }\n",
              "\n",
              "    .colab-df-convert {\n",
              "      background-color: #E8F0FE;\n",
              "      border: none;\n",
              "      border-radius: 50%;\n",
              "      cursor: pointer;\n",
              "      display: none;\n",
              "      fill: #1967D2;\n",
              "      height: 32px;\n",
              "      padding: 0 0 0 0;\n",
              "      width: 32px;\n",
              "    }\n",
              "\n",
              "    .colab-df-convert:hover {\n",
              "      background-color: #E2EBFA;\n",
              "      box-shadow: 0px 1px 2px rgba(60, 64, 67, 0.3), 0px 1px 3px 1px rgba(60, 64, 67, 0.15);\n",
              "      fill: #174EA6;\n",
              "    }\n",
              "\n",
              "    .colab-df-buttons div {\n",
              "      margin-bottom: 4px;\n",
              "    }\n",
              "\n",
              "    [theme=dark] .colab-df-convert {\n",
              "      background-color: #3B4455;\n",
              "      fill: #D2E3FC;\n",
              "    }\n",
              "\n",
              "    [theme=dark] .colab-df-convert:hover {\n",
              "      background-color: #434B5C;\n",
              "      box-shadow: 0px 1px 3px 1px rgba(0, 0, 0, 0.15);\n",
              "      filter: drop-shadow(0px 1px 2px rgba(0, 0, 0, 0.3));\n",
              "      fill: #FFFFFF;\n",
              "    }\n",
              "  </style>\n",
              "\n",
              "    <script>\n",
              "      const buttonEl =\n",
              "        document.querySelector('#df-93eb4942-9f54-45f8-8d78-1cb329b8120b button.colab-df-convert');\n",
              "      buttonEl.style.display =\n",
              "        google.colab.kernel.accessAllowed ? 'block' : 'none';\n",
              "\n",
              "      async function convertToInteractive(key) {\n",
              "        const element = document.querySelector('#df-93eb4942-9f54-45f8-8d78-1cb329b8120b');\n",
              "        const dataTable =\n",
              "          await google.colab.kernel.invokeFunction('convertToInteractive',\n",
              "                                                    [key], {});\n",
              "        if (!dataTable) return;\n",
              "\n",
              "        const docLinkHtml = 'Like what you see? Visit the ' +\n",
              "          '<a target=\"_blank\" href=https://colab.research.google.com/notebooks/data_table.ipynb>data table notebook</a>'\n",
              "          + ' to learn more about interactive tables.';\n",
              "        element.innerHTML = '';\n",
              "        dataTable['output_type'] = 'display_data';\n",
              "        await google.colab.output.renderOutput(dataTable, element);\n",
              "        const docLink = document.createElement('div');\n",
              "        docLink.innerHTML = docLinkHtml;\n",
              "        element.appendChild(docLink);\n",
              "      }\n",
              "    </script>\n",
              "  </div>\n",
              "\n",
              "\n",
              "<div id=\"df-8141cf5f-15cf-4e25-aa9f-220dddc11f15\">\n",
              "  <button class=\"colab-df-quickchart\" onclick=\"quickchart('df-8141cf5f-15cf-4e25-aa9f-220dddc11f15')\"\n",
              "            title=\"Suggest charts\"\n",
              "            style=\"display:none;\">\n",
              "\n",
              "<svg xmlns=\"http://www.w3.org/2000/svg\" height=\"24px\"viewBox=\"0 0 24 24\"\n",
              "     width=\"24px\">\n",
              "    <g>\n",
              "        <path d=\"M19 3H5c-1.1 0-2 .9-2 2v14c0 1.1.9 2 2 2h14c1.1 0 2-.9 2-2V5c0-1.1-.9-2-2-2zM9 17H7v-7h2v7zm4 0h-2V7h2v10zm4 0h-2v-4h2v4z\"/>\n",
              "    </g>\n",
              "</svg>\n",
              "  </button>\n",
              "\n",
              "<style>\n",
              "  .colab-df-quickchart {\n",
              "      --bg-color: #E8F0FE;\n",
              "      --fill-color: #1967D2;\n",
              "      --hover-bg-color: #E2EBFA;\n",
              "      --hover-fill-color: #174EA6;\n",
              "      --disabled-fill-color: #AAA;\n",
              "      --disabled-bg-color: #DDD;\n",
              "  }\n",
              "\n",
              "  [theme=dark] .colab-df-quickchart {\n",
              "      --bg-color: #3B4455;\n",
              "      --fill-color: #D2E3FC;\n",
              "      --hover-bg-color: #434B5C;\n",
              "      --hover-fill-color: #FFFFFF;\n",
              "      --disabled-bg-color: #3B4455;\n",
              "      --disabled-fill-color: #666;\n",
              "  }\n",
              "\n",
              "  .colab-df-quickchart {\n",
              "    background-color: var(--bg-color);\n",
              "    border: none;\n",
              "    border-radius: 50%;\n",
              "    cursor: pointer;\n",
              "    display: none;\n",
              "    fill: var(--fill-color);\n",
              "    height: 32px;\n",
              "    padding: 0;\n",
              "    width: 32px;\n",
              "  }\n",
              "\n",
              "  .colab-df-quickchart:hover {\n",
              "    background-color: var(--hover-bg-color);\n",
              "    box-shadow: 0 1px 2px rgba(60, 64, 67, 0.3), 0 1px 3px 1px rgba(60, 64, 67, 0.15);\n",
              "    fill: var(--button-hover-fill-color);\n",
              "  }\n",
              "\n",
              "  .colab-df-quickchart-complete:disabled,\n",
              "  .colab-df-quickchart-complete:disabled:hover {\n",
              "    background-color: var(--disabled-bg-color);\n",
              "    fill: var(--disabled-fill-color);\n",
              "    box-shadow: none;\n",
              "  }\n",
              "\n",
              "  .colab-df-spinner {\n",
              "    border: 2px solid var(--fill-color);\n",
              "    border-color: transparent;\n",
              "    border-bottom-color: var(--fill-color);\n",
              "    animation:\n",
              "      spin 1s steps(1) infinite;\n",
              "  }\n",
              "\n",
              "  @keyframes spin {\n",
              "    0% {\n",
              "      border-color: transparent;\n",
              "      border-bottom-color: var(--fill-color);\n",
              "      border-left-color: var(--fill-color);\n",
              "    }\n",
              "    20% {\n",
              "      border-color: transparent;\n",
              "      border-left-color: var(--fill-color);\n",
              "      border-top-color: var(--fill-color);\n",
              "    }\n",
              "    30% {\n",
              "      border-color: transparent;\n",
              "      border-left-color: var(--fill-color);\n",
              "      border-top-color: var(--fill-color);\n",
              "      border-right-color: var(--fill-color);\n",
              "    }\n",
              "    40% {\n",
              "      border-color: transparent;\n",
              "      border-right-color: var(--fill-color);\n",
              "      border-top-color: var(--fill-color);\n",
              "    }\n",
              "    60% {\n",
              "      border-color: transparent;\n",
              "      border-right-color: var(--fill-color);\n",
              "    }\n",
              "    80% {\n",
              "      border-color: transparent;\n",
              "      border-right-color: var(--fill-color);\n",
              "      border-bottom-color: var(--fill-color);\n",
              "    }\n",
              "    90% {\n",
              "      border-color: transparent;\n",
              "      border-bottom-color: var(--fill-color);\n",
              "    }\n",
              "  }\n",
              "</style>\n",
              "\n",
              "  <script>\n",
              "    async function quickchart(key) {\n",
              "      const quickchartButtonEl =\n",
              "        document.querySelector('#' + key + ' button');\n",
              "      quickchartButtonEl.disabled = true;  // To prevent multiple clicks.\n",
              "      quickchartButtonEl.classList.add('colab-df-spinner');\n",
              "      try {\n",
              "        const charts = await google.colab.kernel.invokeFunction(\n",
              "            'suggestCharts', [key], {});\n",
              "      } catch (error) {\n",
              "        console.error('Error during call to suggestCharts:', error);\n",
              "      }\n",
              "      quickchartButtonEl.classList.remove('colab-df-spinner');\n",
              "      quickchartButtonEl.classList.add('colab-df-quickchart-complete');\n",
              "    }\n",
              "    (() => {\n",
              "      let quickchartButtonEl =\n",
              "        document.querySelector('#df-8141cf5f-15cf-4e25-aa9f-220dddc11f15 button');\n",
              "      quickchartButtonEl.style.display =\n",
              "        google.colab.kernel.accessAllowed ? 'block' : 'none';\n",
              "    })();\n",
              "  </script>\n",
              "</div>\n",
              "\n",
              "    </div>\n",
              "  </div>\n"
            ],
            "application/vnd.google.colaboratory.intrinsic+json": {
              "type": "dataframe",
              "summary": "{\n  \"name\": \"NYC\",\n  \"rows\": 8,\n  \"fields\": [\n    {\n      \"column\": \"id\",\n      \"properties\": {\n        \"dtype\": \"number\",\n        \"std\": 13050593.077564368,\n        \"min\": 2539.0,\n        \"max\": 36487245.0,\n        \"num_unique_values\": 8,\n        \"samples\": [\n          19017143.236179568,\n          19677284.0,\n          48895.0\n        ],\n        \"semantic_type\": \"\",\n        \"description\": \"\"\n      }\n    },\n    {\n      \"column\": \"host_id\",\n      \"properties\": {\n        \"dtype\": \"number\",\n        \"std\": 91353984.9812982,\n        \"min\": 2438.0,\n        \"max\": 274321313.0,\n        \"num_unique_values\": 8,\n        \"samples\": [\n          67620010.64661008,\n          30793816.0,\n          48895.0\n        ],\n        \"semantic_type\": \"\",\n        \"description\": \"\"\n      }\n    },\n    {\n      \"column\": \"latitude\",\n      \"properties\": {\n        \"dtype\": \"number\",\n        \"std\": 17274.65621338401,\n        \"min\": 0.054530078057371895,\n        \"max\": 48895.0,\n        \"num_unique_values\": 8,\n        \"samples\": [\n          40.72894888066264,\n          40.72307,\n          48895.0\n        ],\n        \"semantic_type\": \"\",\n        \"description\": \"\"\n      }\n    },\n    {\n      \"column\": \"longitude\",\n      \"properties\": {\n        \"dtype\": \"number\",\n        \"std\": 17309.4245840868,\n        \"min\": -74.24442,\n        \"max\": 48895.0,\n        \"num_unique_values\": 8,\n        \"samples\": [\n          -73.95216961468454,\n          -73.95568,\n          48895.0\n        ],\n        \"semantic_type\": \"\",\n        \"description\": \"\"\n      }\n    },\n    {\n      \"column\": \"price\",\n      \"properties\": {\n        \"dtype\": \"number\",\n        \"std\": 17097.469027198676,\n        \"min\": 0.0,\n        \"max\": 48895.0,\n        \"num_unique_values\": 8,\n        \"samples\": [\n          152.7206871868289,\n          106.0,\n          48895.0\n        ],\n        \"semantic_type\": \"\",\n        \"description\": \"\"\n      }\n    },\n    {\n      \"column\": \"minimum_nights\",\n      \"properties\": {\n        \"dtype\": \"number\",\n        \"std\": 17227.46192058729,\n        \"min\": 1.0,\n        \"max\": 48895.0,\n        \"num_unique_values\": 7,\n        \"samples\": [\n          48895.0,\n          7.029962163820431,\n          5.0\n        ],\n        \"semantic_type\": \"\",\n        \"description\": \"\"\n      }\n    },\n    {\n      \"column\": \"number_of_reviews\",\n      \"properties\": {\n        \"dtype\": \"number\",\n        \"std\": 17251.621473766536,\n        \"min\": 0.0,\n        \"max\": 48895.0,\n        \"num_unique_values\": 8,\n        \"samples\": [\n          23.274465691788528,\n          5.0,\n          48895.0\n        ],\n        \"semantic_type\": \"\",\n        \"description\": \"\"\n      }\n    },\n    {\n      \"column\": \"reviews_per_month\",\n      \"properties\": {\n        \"dtype\": \"number\",\n        \"std\": 13729.83169025149,\n        \"min\": 0.01,\n        \"max\": 38843.0,\n        \"num_unique_values\": 8,\n        \"samples\": [\n          1.3732214298586618,\n          0.72,\n          38843.0\n        ],\n        \"semantic_type\": \"\",\n        \"description\": \"\"\n      }\n    },\n    {\n      \"column\": \"calculated_host_listings_count\",\n      \"properties\": {\n        \"dtype\": \"number\",\n        \"std\": 17268.564537091872,\n        \"min\": 1.0,\n        \"max\": 48895.0,\n        \"num_unique_values\": 6,\n        \"samples\": [\n          48895.0,\n          7.143982002249719,\n          327.0\n        ],\n        \"semantic_type\": \"\",\n        \"description\": \"\"\n      }\n    },\n    {\n      \"column\": \"availability_365\",\n      \"properties\": {\n        \"dtype\": \"number\",\n        \"std\": 17242.913879680455,\n        \"min\": 0.0,\n        \"max\": 48895.0,\n        \"num_unique_values\": 7,\n        \"samples\": [\n          48895.0,\n          112.78132733408324,\n          227.0\n        ],\n        \"semantic_type\": \"\",\n        \"description\": \"\"\n      }\n    }\n  ]\n}"
            }
          },
          "metadata": {},
          "execution_count": 11
        }
      ]
    },
    {
      "cell_type": "code",
      "source": [
        "print(\"Shape of the dataset:\", NYC.shape)"
      ],
      "metadata": {
        "colab": {
          "base_uri": "https://localhost:8080/"
        },
        "id": "V6IZbgyO8PgL",
        "outputId": "ea35f6dc-95f4-4caf-a1d8-2ffa9d5f1963"
      },
      "execution_count": null,
      "outputs": [
        {
          "output_type": "stream",
          "name": "stdout",
          "text": [
            "Shape of the dataset: (48895, 16)\n"
          ]
        }
      ]
    },
    {
      "cell_type": "markdown",
      "source": [
        "#Ensuring data integrity"
      ],
      "metadata": {
        "id": "P9kXS1HU_qLi"
      }
    },
    {
      "cell_type": "code",
      "source": [
        "print(NYC.dtypes)"
      ],
      "metadata": {
        "colab": {
          "base_uri": "https://localhost:8080/"
        },
        "id": "0gTHxoro8aBJ",
        "outputId": "4305e740-5868-43a4-e0a7-e85a7612cc86"
      },
      "execution_count": null,
      "outputs": [
        {
          "output_type": "stream",
          "name": "stdout",
          "text": [
            "id                                  int64\n",
            "name                               object\n",
            "host_id                             int64\n",
            "host_name                          object\n",
            "neighbourhood_group                object\n",
            "neighbourhood                      object\n",
            "latitude                          float64\n",
            "longitude                         float64\n",
            "room_type                          object\n",
            "price                               int64\n",
            "minimum_nights                      int64\n",
            "number_of_reviews                   int64\n",
            "last_review                        object\n",
            "reviews_per_month                 float64\n",
            "calculated_host_listings_count      int64\n",
            "availability_365                    int64\n",
            "dtype: object\n"
          ]
        }
      ]
    },
    {
      "cell_type": "code",
      "source": [
        "NYC['last_review'] = pd.to_datetime(NYC['last_review'])"
      ],
      "metadata": {
        "id": "r8N9mqV3CNuH"
      },
      "execution_count": null,
      "outputs": []
    },
    {
      "cell_type": "code",
      "source": [
        "print(NYC.dtypes)"
      ],
      "metadata": {
        "colab": {
          "base_uri": "https://localhost:8080/"
        },
        "id": "Xisbge59CfLD",
        "outputId": "20addb0d-3360-4cbb-d0f6-0ac8ef9d7d4b"
      },
      "execution_count": null,
      "outputs": [
        {
          "output_type": "stream",
          "name": "stdout",
          "text": [
            "id                                         int64\n",
            "name                                      object\n",
            "host_id                                    int64\n",
            "host_name                                 object\n",
            "neighbourhood_group                       object\n",
            "neighbourhood                             object\n",
            "latitude                                 float64\n",
            "longitude                                float64\n",
            "room_type                                 object\n",
            "price                                      int64\n",
            "minimum_nights                             int64\n",
            "number_of_reviews                          int64\n",
            "last_review                       datetime64[ns]\n",
            "reviews_per_month                        float64\n",
            "calculated_host_listings_count             int64\n",
            "availability_365                           int64\n",
            "dtype: object\n"
          ]
        }
      ]
    },
    {
      "cell_type": "code",
      "source": [
        "# Cross-column validation\n",
        "invalid_coordinates = NYC[(NYC['latitude'] < 40) | (NYC['longitude'] > -73)]\n",
        "print(invalid_coordinates[['latitude', 'longitude']])"
      ],
      "metadata": {
        "colab": {
          "base_uri": "https://localhost:8080/"
        },
        "id": "c-GXHG2qIJn8",
        "outputId": "d9f9ca97-ef83-4608-8f8a-8293536a08b3"
      },
      "execution_count": null,
      "outputs": [
        {
          "output_type": "stream",
          "name": "stdout",
          "text": [
            "Empty DataFrame\n",
            "Columns: [latitude, longitude]\n",
            "Index: []\n"
          ]
        }
      ]
    },
    {
      "cell_type": "code",
      "source": [
        "#last_reviews format\n",
        "\n",
        "import re\n",
        "\n",
        "NYC['last_review'] = NYC['last_review'].astype(str)\n",
        "\n",
        "#date format MM/DD/YYYY\n",
        "pattern = r'\\d{2}/\\d{2}/\\d{4}'\n",
        "\n",
        "date_inconsistent = NYC[~NYC['last_review'].str.contains(pattern, na=False, regex=True)]\n",
        "\n",
        "print(date_inconsistent['last_review'])\n",
        "\n"
      ],
      "metadata": {
        "colab": {
          "base_uri": "https://localhost:8080/"
        },
        "id": "_epdLPVbIWkf",
        "outputId": "5a681f09-0f48-49e9-de1b-7221d486d66f"
      },
      "execution_count": null,
      "outputs": [
        {
          "output_type": "stream",
          "name": "stdout",
          "text": [
            "0        2018-10-19\n",
            "1        2019-05-21\n",
            "2               NaT\n",
            "3        2019-07-05\n",
            "4        2018-11-19\n",
            "            ...    \n",
            "48890           NaT\n",
            "48891           NaT\n",
            "48892           NaT\n",
            "48893           NaT\n",
            "48894           NaT\n",
            "Name: last_review, Length: 48895, dtype: object\n"
          ]
        }
      ]
    },
    {
      "cell_type": "code",
      "source": [
        "NYC['last_review'] = pd.to_datetime(NYC['last_review'])"
      ],
      "metadata": {
        "id": "Wpm9Uui_OQ9-"
      },
      "execution_count": null,
      "outputs": []
    },
    {
      "cell_type": "code",
      "source": [
        "# Check for negative values\n",
        "columns_to_check = ['price', 'minimum_nights', 'number_of_reviews', 'reviews_per_month', 'availability_365', 'calculated_host_listings_count','availability_365']\n",
        "\n",
        "negative_values = NYC[(NYC[columns_to_check] < 0).any(axis=1)]\n",
        "\n",
        "if not negative_values.empty:\n",
        "    print(\"Negative values found in the following columns:\")\n",
        "    print(negative_values[columns_to_check])\n",
        "else:\n",
        "    print(\"No negative values found in the specified columns.\")"
      ],
      "metadata": {
        "colab": {
          "base_uri": "https://localhost:8080/"
        },
        "id": "-5iu2gifLJl3",
        "outputId": "261422f9-753f-4704-d7c6-4ba641dcbb27"
      },
      "execution_count": null,
      "outputs": [
        {
          "output_type": "stream",
          "name": "stdout",
          "text": [
            "No negative values found in the specified columns.\n"
          ]
        }
      ]
    },
    {
      "cell_type": "markdown",
      "source": [
        "#Handle missing data"
      ],
      "metadata": {
        "id": "65x-xB4ZNpfv"
      }
    },
    {
      "cell_type": "code",
      "source": [
        "print(NYC.isnull().sum())"
      ],
      "metadata": {
        "colab": {
          "base_uri": "https://localhost:8080/"
        },
        "id": "AOBIo2kTNtSs",
        "outputId": "b3598592-0bfe-4dab-e96e-265f12a8720a"
      },
      "execution_count": null,
      "outputs": [
        {
          "output_type": "stream",
          "name": "stdout",
          "text": [
            "id                                    0\n",
            "name                                 16\n",
            "host_id                               0\n",
            "host_name                            21\n",
            "neighbourhood_group                   0\n",
            "neighbourhood                         0\n",
            "latitude                              0\n",
            "longitude                             0\n",
            "room_type                             0\n",
            "price                                 0\n",
            "minimum_nights                        0\n",
            "number_of_reviews                     0\n",
            "last_review                       10052\n",
            "reviews_per_month                 10052\n",
            "calculated_host_listings_count        0\n",
            "availability_365                      0\n",
            "dtype: int64\n"
          ]
        }
      ]
    },
    {
      "cell_type": "markdown",
      "source": [
        "In order to maintain data structure and avoid data loss, the method chosen for last_review is to impute with a specific date"
      ],
      "metadata": {
        "id": "psWXd-gzQlnM"
      }
    },
    {
      "cell_type": "code",
      "source": [
        "NYC['last_review'].fillna('7-20-2019', inplace=True)\n",
        "\n"
      ],
      "metadata": {
        "colab": {
          "base_uri": "https://localhost:8080/"
        },
        "id": "RHHBRFNyOiWz",
        "outputId": "378e302a-c0f3-4ab2-e6f9-9be01507b763"
      },
      "execution_count": null,
      "outputs": [
        {
          "output_type": "stream",
          "name": "stderr",
          "text": [
            "<ipython-input-30-68c17d83cb72>:2: FutureWarning: A value is trying to be set on a copy of a DataFrame or Series through chained assignment using an inplace method.\n",
            "The behavior will change in pandas 3.0. This inplace method will never work because the intermediate object on which we are setting values always behaves as a copy.\n",
            "\n",
            "For example, when doing 'df[col].method(value, inplace=True)', try using 'df.method({col: value}, inplace=True)' or df[col] = df[col].method(value) instead, to perform the operation inplace on the original object.\n",
            "\n",
            "\n",
            "  NYC['last_review'].fillna('7-20-2019', inplace=True)\n"
          ]
        }
      ]
    },
    {
      "cell_type": "code",
      "source": [
        "mean_reviews_per_month = NYC['reviews_per_month'].mean()\n",
        "NYC['reviews_per_month'].fillna(mean_reviews_per_month, inplace=True)"
      ],
      "metadata": {
        "colab": {
          "base_uri": "https://localhost:8080/"
        },
        "id": "5QK5OicNQjBJ",
        "outputId": "e18da1b2-614e-4a1a-9cdc-6f127463fa43"
      },
      "execution_count": null,
      "outputs": [
        {
          "output_type": "stream",
          "name": "stderr",
          "text": [
            "<ipython-input-31-4a030a46f183>:3: FutureWarning: A value is trying to be set on a copy of a DataFrame or Series through chained assignment using an inplace method.\n",
            "The behavior will change in pandas 3.0. This inplace method will never work because the intermediate object on which we are setting values always behaves as a copy.\n",
            "\n",
            "For example, when doing 'df[col].method(value, inplace=True)', try using 'df.method({col: value}, inplace=True)' or df[col] = df[col].method(value) instead, to perform the operation inplace on the original object.\n",
            "\n",
            "\n",
            "  NYC['reviews_per_month'].fillna(mean_reviews_per_month, inplace=True)\n"
          ]
        }
      ]
    },
    {
      "cell_type": "code",
      "source": [
        "print(NYC.isnull().sum())"
      ],
      "metadata": {
        "colab": {
          "base_uri": "https://localhost:8080/"
        },
        "id": "adxMJSZiR01u",
        "outputId": "822cf180-cd5c-4266-d221-a6f7a0f69474"
      },
      "execution_count": null,
      "outputs": [
        {
          "output_type": "stream",
          "name": "stdout",
          "text": [
            "id                                 0\n",
            "name                              16\n",
            "host_id                            0\n",
            "host_name                         21\n",
            "neighbourhood_group                0\n",
            "neighbourhood                      0\n",
            "latitude                           0\n",
            "longitude                          0\n",
            "room_type                          0\n",
            "price                              0\n",
            "minimum_nights                     0\n",
            "number_of_reviews                  0\n",
            "last_review                        0\n",
            "reviews_per_month                  0\n",
            "calculated_host_listings_count     0\n",
            "availability_365                   0\n",
            "dtype: int64\n"
          ]
        }
      ]
    },
    {
      "cell_type": "markdown",
      "source": [
        "In order to preserve data integrity and maintain consistency, the method chosen for name and host_name is to impute with a placeholder"
      ],
      "metadata": {
        "id": "ahaQsTR0Sp6J"
      }
    },
    {
      "cell_type": "code",
      "source": [
        "\n",
        "NYC['name'].fillna('Unknown', inplace=True)\n",
        "NYC['host_name'].fillna('Unknown', inplace=True)"
      ],
      "metadata": {
        "colab": {
          "base_uri": "https://localhost:8080/"
        },
        "id": "IoyI8ReTS6WZ",
        "outputId": "d76a6290-4930-4057-ec1b-b8fa2864f1cc"
      },
      "execution_count": null,
      "outputs": [
        {
          "output_type": "stream",
          "name": "stderr",
          "text": [
            "<ipython-input-33-35c8c0ad9126>:1: FutureWarning: A value is trying to be set on a copy of a DataFrame or Series through chained assignment using an inplace method.\n",
            "The behavior will change in pandas 3.0. This inplace method will never work because the intermediate object on which we are setting values always behaves as a copy.\n",
            "\n",
            "For example, when doing 'df[col].method(value, inplace=True)', try using 'df.method({col: value}, inplace=True)' or df[col] = df[col].method(value) instead, to perform the operation inplace on the original object.\n",
            "\n",
            "\n",
            "  NYC['name'].fillna('Unknown', inplace=True)\n",
            "<ipython-input-33-35c8c0ad9126>:2: FutureWarning: A value is trying to be set on a copy of a DataFrame or Series through chained assignment using an inplace method.\n",
            "The behavior will change in pandas 3.0. This inplace method will never work because the intermediate object on which we are setting values always behaves as a copy.\n",
            "\n",
            "For example, when doing 'df[col].method(value, inplace=True)', try using 'df.method({col: value}, inplace=True)' or df[col] = df[col].method(value) instead, to perform the operation inplace on the original object.\n",
            "\n",
            "\n",
            "  NYC['host_name'].fillna('Unknown', inplace=True)\n"
          ]
        }
      ]
    },
    {
      "cell_type": "code",
      "source": [
        "print(NYC.isnull().sum())"
      ],
      "metadata": {
        "colab": {
          "base_uri": "https://localhost:8080/"
        },
        "id": "pBzOA47xTA6P",
        "outputId": "64804581-b656-4c45-c661-08c84aeea60b"
      },
      "execution_count": null,
      "outputs": [
        {
          "output_type": "stream",
          "name": "stdout",
          "text": [
            "id                                0\n",
            "name                              0\n",
            "host_id                           0\n",
            "host_name                         0\n",
            "neighbourhood_group               0\n",
            "neighbourhood                     0\n",
            "latitude                          0\n",
            "longitude                         0\n",
            "room_type                         0\n",
            "price                             0\n",
            "minimum_nights                    0\n",
            "number_of_reviews                 0\n",
            "last_review                       0\n",
            "reviews_per_month                 0\n",
            "calculated_host_listings_count    0\n",
            "availability_365                  0\n",
            "dtype: int64\n"
          ]
        }
      ]
    },
    {
      "cell_type": "markdown",
      "source": [
        "Missing values have been handled"
      ],
      "metadata": {
        "id": "iZReq2XOTCcJ"
      }
    },
    {
      "cell_type": "code",
      "source": [
        "print(\"Shape of the dataset:\", NYC.shape)"
      ],
      "metadata": {
        "colab": {
          "base_uri": "https://localhost:8080/"
        },
        "id": "4Cqm0i63TnCF",
        "outputId": "4b79a97b-94c0-4c13-d0e1-6a4b856502d3"
      },
      "execution_count": null,
      "outputs": [
        {
          "output_type": "stream",
          "name": "stdout",
          "text": [
            "Shape of the dataset: (48895, 16)\n"
          ]
        }
      ]
    },
    {
      "cell_type": "markdown",
      "source": [
        "#Duplicate removal"
      ],
      "metadata": {
        "id": "8Y8EVg2YTKzO"
      }
    },
    {
      "cell_type": "code",
      "source": [
        "duplicates = NYC.duplicated().sum()\n",
        "print(\"Number of duplicate rows:\", duplicates)"
      ],
      "metadata": {
        "colab": {
          "base_uri": "https://localhost:8080/"
        },
        "id": "kvXmGBQuTEqE",
        "outputId": "de39a618-64c9-4d93-822f-77a8cb5eb841"
      },
      "execution_count": null,
      "outputs": [
        {
          "output_type": "stream",
          "name": "stdout",
          "text": [
            "Number of duplicate rows: 0\n"
          ]
        }
      ]
    },
    {
      "cell_type": "markdown",
      "source": [
        "This indicates data is unique so we can proceed."
      ],
      "metadata": {
        "id": "r0Rv0zCqTRpw"
      }
    },
    {
      "cell_type": "markdown",
      "source": [
        "#Standardization"
      ],
      "metadata": {
        "id": "DtIXwtjGTv7G"
      }
    },
    {
      "cell_type": "markdown",
      "source": [
        "Standardizing numerical columns which is crucial for analysis and model training"
      ],
      "metadata": {
        "id": "FSWQqeikqDUR"
      }
    },
    {
      "cell_type": "code",
      "source": [
        "from sklearn.preprocessing import StandardScaler\n",
        "\n",
        "#numerical columns\n",
        "numerical_cols = ['latitude', 'longitude', 'price', 'minimum_nights', 'number_of_reviews', 'reviews_per_month', 'calculated_host_listings_count', 'availability_365']\n",
        "\n",
        "scaler = StandardScaler()\n",
        "\n",
        "NYC[numerical_cols] = scaler.fit_transform(NYC[numerical_cols])"
      ],
      "metadata": {
        "id": "kyaQniAjTzy_"
      },
      "execution_count": null,
      "outputs": []
    },
    {
      "cell_type": "markdown",
      "source": [
        "Extracting date and time components which could be useful during analysis for derving various insights"
      ],
      "metadata": {
        "id": "D6HR3aAJs3nq"
      }
    },
    {
      "cell_type": "code",
      "source": [
        "NYC['review_year'] = NYC['last_review'].dt.year\n",
        "NYC['review_month'] = NYC['last_review'].dt.month\n",
        "NYC['review_day'] = NYC['last_review'].dt.day"
      ],
      "metadata": {
        "id": "rQoPgdtPso72"
      },
      "execution_count": null,
      "outputs": []
    },
    {
      "cell_type": "markdown",
      "source": [
        "#Outlier detection"
      ],
      "metadata": {
        "id": "eaEyv_nmtD-C"
      }
    },
    {
      "cell_type": "markdown",
      "source": [
        "The method chosen to identify outliers is the standard deviation method. After identifying, the IQR method will be employed to addressed the outliers because it handles outliers based on the spread of the data. After addressing the outliers, a box plot will be used to visualize the final result.\n",
        "\n",
        "threshold = 3"
      ],
      "metadata": {
        "id": "RmlgzpYhxgq5"
      }
    },
    {
      "cell_type": "markdown",
      "source": [
        "**1. Price**"
      ],
      "metadata": {
        "id": "_yIFHJ1Z0e-A"
      }
    },
    {
      "cell_type": "code",
      "source": [
        "threshold = 3\n",
        "mean = NYC['price'].mean()\n",
        "std = NYC['price'].std()\n",
        "\n",
        "NYC['outlier_flag'] = (NYC['price'] - mean).abs() > threshold * std\n",
        "\n",
        "outliers = NYC[NYC['outlier_flag']]\n",
        "print(\"Outliers:\")\n",
        "print(outliers)"
      ],
      "metadata": {
        "colab": {
          "base_uri": "https://localhost:8080/"
        },
        "id": "cBEJKFW0xy39",
        "outputId": "2530d1b5-fdfd-4c0d-8542-8b30b37bee3e"
      },
      "execution_count": null,
      "outputs": [
        {
          "output_type": "stream",
          "name": "stdout",
          "text": [
            "Outliers:\n",
            "             id                                               name    host_id  \\\n",
            "496      174966              Luxury 2Bed/2.5Bath Central Park View     836168   \n",
            "762      273190          6 Bedroom Landmark West Village Townhouse     605463   \n",
            "946      363673                   Beautiful 3 bedroom in Manhattan     256239   \n",
            "1105     468613   $ (Phone number hidden by Airbnb) weeks - room f    2325861   \n",
            "1414     634353                Luxury 1Bed with Central Park Views     836168   \n",
            "...         ...                                                ...        ...   \n",
            "48301  36186719           Private Bedroom in the Heart of Chelsea!  268920555   \n",
            "48304  36189195      Next to Times Square/Javits/MSG! Amazing 1BR!  270214015   \n",
            "48305  36189257             2BR Near Museum Mile! Upper East Side!  272166348   \n",
            "48523  36308562  Tasteful & Trendy Brooklyn Brownstone, near Train  217732163   \n",
            "48535  36311055     Stunning & Stylish Brooklyn Luxury, near Train  245712163   \n",
            "\n",
            "           host_name neighbourhood_group       neighbourhood  latitude  \\\n",
            "496            Henry           Manhattan     Upper West Side  0.817009   \n",
            "762     West Village           Manhattan        West Village  0.074476   \n",
            "946           Tracey           Manhattan     Upper West Side  1.329025   \n",
            "1105         Cynthia           Manhattan     Lower East Side -0.136236   \n",
            "1414           Henry           Manhattan     Upper West Side  0.831313   \n",
            "...              ...                 ...                 ...       ...   \n",
            "48301  Terrence Jake           Manhattan             Chelsea  0.300042   \n",
            "48304        Rogelio           Manhattan      Hell's Kitchen  0.483795   \n",
            "48305    Mary Rotsen           Manhattan     Upper East Side  0.960418   \n",
            "48523          Sandy            Brooklyn  Bedford-Stuyvesant -0.757001   \n",
            "48535        Urvashi            Brooklyn  Bedford-Stuyvesant -0.852729   \n",
            "\n",
            "       longitude        room_type      price  minimum_nights  \\\n",
            "496    -0.753969  Entire home/apt   7.692135        1.119925   \n",
            "762    -1.094334  Entire home/apt   4.777311       -0.098973   \n",
            "946    -0.371356     Private room  11.856169       -0.001461   \n",
            "1105   -0.880062     Private room   4.777311       -0.293996   \n",
            "1414   -0.731653  Entire home/apt   3.528100        1.119925   \n",
            "...          ...              ...        ...             ...   \n",
            "48301  -0.917977     Private room   3.523936        1.119925   \n",
            "48304  -1.007239  Entire home/apt  11.852005        1.119925   \n",
            "48305  -0.009758  Entire home/apt   7.687971        1.119925   \n",
            "48523  -0.127402  Entire home/apt   5.064629       -0.293996   \n",
            "48535   0.389971  Entire home/apt   6.646962       -0.293996   \n",
            "\n",
            "       number_of_reviews last_review  reviews_per_month  \\\n",
            "496             0.150966  2018-05-05          -0.696521   \n",
            "762             0.106072  2018-09-25          -0.709875   \n",
            "946            -0.522433  2019-07-20           0.000000   \n",
            "1105           -0.522433  2019-07-20           0.000000   \n",
            "1414            0.465218  2015-09-28          -0.562989   \n",
            "...                  ...         ...                ...   \n",
            "48301          -0.522433  2019-07-20           0.000000   \n",
            "48304          -0.522433  2019-07-20           0.000000   \n",
            "48305          -0.522433  2019-07-20           0.000000   \n",
            "48523          -0.522433  2019-07-20           0.000000   \n",
            "48535          -0.522433  2019-07-20           0.000000   \n",
            "\n",
            "       calculated_host_listings_count  availability_365  review_year  \\\n",
            "496                          0.117019         -0.856865         2018   \n",
            "762                         -0.095410          1.399615         2018   \n",
            "946                         -0.186451          1.916250         2019   \n",
            "1105                        -0.186451         -0.856865         2019   \n",
            "1414                         0.117019          1.908653         2015   \n",
            "...                               ...               ...          ...   \n",
            "48301                       -0.186451          1.194481         2019   \n",
            "48304                       -0.186451          0.829797         2019   \n",
            "48305                       -0.186451          1.194481         2019   \n",
            "48523                       -0.186451          1.794689         2019   \n",
            "48535                       -0.186451          1.445201         2019   \n",
            "\n",
            "       review_month  review_day  outlier_flag  \n",
            "496               5           5          True  \n",
            "762               9          25          True  \n",
            "946               7          20          True  \n",
            "1105              7          20          True  \n",
            "1414              9          28          True  \n",
            "...             ...         ...           ...  \n",
            "48301             7          20          True  \n",
            "48304             7          20          True  \n",
            "48305             7          20          True  \n",
            "48523             7          20          True  \n",
            "48535             7          20          True  \n",
            "\n",
            "[388 rows x 20 columns]\n"
          ]
        }
      ]
    },
    {
      "cell_type": "code",
      "source": [
        "Q1 = NYC['price'].quantile(0.25)\n",
        "Q3 = NYC['price'].quantile(0.75)\n",
        "IQR = Q3 - Q1\n",
        "\n",
        "lower_bound = Q1 - 1.5 * IQR\n",
        "upper_bound = Q3 + 1.5 * IQR\n",
        "\n",
        "df_cleaned = NYC[(NYC['price'] >= lower_bound) & (NYC['price'] <= upper_bound)]"
      ],
      "metadata": {
        "id": "eRlAqH_lyxhr"
      },
      "execution_count": null,
      "outputs": []
    },
    {
      "cell_type": "code",
      "source": [
        "#distribution of the data before and after outlier removal\n",
        "plt.figure(figsize=(12, 6))\n",
        "plt.subplot(1, 2, 1)\n",
        "sns.boxplot(y=NYC['price'], color ='purple')\n",
        "plt.title('Box Plot before Outlier Removal')\n",
        "\n",
        "plt.subplot(1, 2, 2)\n",
        "sns.boxplot(y=df_cleaned['price'], color='purple')\n",
        "plt.title('Box Plot after Outlier Removal')"
      ],
      "metadata": {
        "colab": {
          "base_uri": "https://localhost:8080/",
          "height": 543
        },
        "id": "eCSW1c5vtHn8",
        "outputId": "93a50ae2-9856-4128-fbba-58ee64bb86a8"
      },
      "execution_count": null,
      "outputs": [
        {
          "output_type": "execute_result",
          "data": {
            "text/plain": [
              "Text(0.5, 1.0, 'Box Plot after Outlier Removal')"
            ]
          },
          "metadata": {},
          "execution_count": 56
        },
        {
          "output_type": "display_data",
          "data": {
            "text/plain": [
              "<Figure size 1200x600 with 2 Axes>"
            ],
            "image/png": "[encoded data removed]"
          },
          "metadata": {}
        }
      ]
    },
    {
      "cell_type": "markdown",
      "source": [
        "**2. number_of_reviews**"
      ],
      "metadata": {
        "id": "gPj27U8Q1O8f"
      }
    },
    {
      "cell_type": "code",
      "source": [
        "threshold = 3\n",
        "mean = NYC['number_of_reviews'].mean()\n",
        "std = NYC['number_of_reviews'].std()\n",
        "\n",
        "NYC['outlier_flag'] = (NYC['number_of_reviews'] - mean).abs() > threshold * std\n",
        "\n",
        "outliers = NYC[NYC['outlier_flag']]\n",
        "print(\"Outliers:\")\n",
        "print(outliers)"
      ],
      "metadata": {
        "colab": {
          "base_uri": "https://localhost:8080/"
        },
        "id": "8NekI4vY1ZB4",
        "outputId": "f913314d-1598-4ad9-dce4-ea05b400fc7b"
      },
      "execution_count": null,
      "outputs": [
        {
          "output_type": "stream",
          "name": "stdout",
          "text": [
            "Outliers:\n",
            "             id                                            name    host_id  \\\n",
            "3          3831                 Cozy Entire Floor of Brownstone       4869   \n",
            "7          5178                Large Furnished Room Near B'way        8967   \n",
            "9          5238              Cute & Cozy Lower East Side 1 bdrm       7549   \n",
            "11         5441                 Central Manhattan/near Broadway       7989   \n",
            "12         5803  Lovely Room 1, Garden, Best Area, Legal rental       9744   \n",
            "...         ...                                             ...        ...   \n",
            "28370  22035333         *Memory foam mattress lovers//Netflix!!  146449899   \n",
            "28651  22176831   JFK 2 Comfort 5 Mins from JFK Private Bedroom  156684502   \n",
            "28801  22241573                Private Room B In Prime Location  162427870   \n",
            "29280  22463977     Amazing Master Bedroom in Historic Brooklyn  164650025   \n",
            "29628  22750161   JFK 3 Comfort 5 Mins from JFK Private Bedroom  156684502   \n",
            "\n",
            "         host_name neighbourhood_group        neighbourhood  latitude  \\\n",
            "3      LisaRoxanne            Brooklyn         Clinton Hill -0.803398   \n",
            "7         Shunichi           Manhattan       Hell's Kitchen  0.659113   \n",
            "9              Ben           Manhattan            Chinatown -0.284413   \n",
            "11            Kate           Manhattan       Hell's Kitchen  0.583374   \n",
            "12          Laurie            Brooklyn          South Slope -1.112404   \n",
            "...            ...                 ...                  ...       ...   \n",
            "28370       Fabian              Queens             Flushing  0.325532   \n",
            "28651      Nalicia              Queens  Springfield Gardens -1.235457   \n",
            "28801         Anna           Manhattan              Chelsea  0.336352   \n",
            "29280        Chris            Brooklyn     Prospect Heights -0.942221   \n",
            "29628      Nalicia              Queens  Springfield Gardens -1.209783   \n",
            "\n",
            "       longitude        room_type     price  minimum_nights  \\\n",
            "3      -0.164450  Entire home/apt -0.265335       -0.293996   \n",
            "7      -0.709771     Private room -0.306975       -0.245240   \n",
            "9      -0.827632  Entire home/apt -0.011329       -0.293996   \n",
            "11     -0.790800     Private room -0.281991       -0.245240   \n",
            "12     -0.771735     Private room -0.265335       -0.147729   \n",
            "...          ...              ...       ...             ...   \n",
            "28370   2.548075     Private room -0.415240       -0.293996   \n",
            "28651   3.935969     Private room -0.427732       -0.293996   \n",
            "28801  -0.810299     Private room -0.157070       -0.293996   \n",
            "29280  -0.391288     Private room -0.490193       -0.293996   \n",
            "29628   3.946802     Private room -0.427732       -0.293996   \n",
            "\n",
            "       number_of_reviews last_review  reviews_per_month  \\\n",
            "3               5.538156  2019-07-05           2.181110   \n",
            "7               9.129616  2019-06-24           1.399943   \n",
            "9               3.069027  2019-06-09          -0.028857   \n",
            "11              3.697532  2019-06-23           0.084645   \n",
            "12              3.226153  2019-06-24          -0.022181   \n",
            "...                  ...         ...                ...   \n",
            "28370           3.203707  2019-06-30           4.918532   \n",
            "28651           7.131866  2019-07-08          10.980921   \n",
            "28801           3.113920  2019-06-23           4.878472   \n",
            "29280           4.056678  2019-06-30           6.540956   \n",
            "29628           6.256448  2019-07-06          10.306580   \n",
            "\n",
            "       calculated_host_listings_count  availability_365  review_year  \\\n",
            "3                           -0.186451          0.617065         2019   \n",
            "7                           -0.186451          0.814602         2019   \n",
            "9                           -0.095410          0.571480         2019   \n",
            "11                          -0.186451         -0.560559         2019   \n",
            "12                          -0.125757          1.528774         2019   \n",
            "...                               ...               ...          ...   \n",
            "28370                       -0.156104          0.290369         2019   \n",
            "28651                       -0.125757         -0.666925         2019   \n",
            "28801                       -0.125757          1.513579         2019   \n",
            "29280                       -0.186451         -0.712511         2019   \n",
            "29628                       -0.125757         -0.659328         2019   \n",
            "\n",
            "       review_month  review_day  outlier_flag  \n",
            "3                 7           5          True  \n",
            "7                 6          24          True  \n",
            "9                 6           9          True  \n",
            "11                6          23          True  \n",
            "12                6          24          True  \n",
            "...             ...         ...           ...  \n",
            "28370             6          30          True  \n",
            "28651             7           8          True  \n",
            "28801             6          23          True  \n",
            "29280             6          30          True  \n",
            "29628             7           6          True  \n",
            "\n",
            "[1221 rows x 20 columns]\n"
          ]
        }
      ]
    },
    {
      "cell_type": "code",
      "source": [
        "Q1 = NYC['number_of_reviews'].quantile(0.25)\n",
        "Q3 = NYC['number_of_reviews'].quantile(0.75)\n",
        "IQR = Q3 - Q1\n",
        "\n",
        "lower_bound = Q1 - 1.5 * IQR\n",
        "upper_bound = Q3 + 1.5 * IQR\n",
        "\n",
        "df_cleaned = NYC[(NYC['number_of_reviews'] >= lower_bound) & (NYC['number_of_reviews'] <= upper_bound)]"
      ],
      "metadata": {
        "id": "QrvnTU6p1rpQ"
      },
      "execution_count": null,
      "outputs": []
    },
    {
      "cell_type": "code",
      "source": [
        "plt.figure(figsize=(12, 6))\n",
        "plt.subplot(1, 2, 1)\n",
        "sns.boxplot(y=NYC['number_of_reviews'], color ='purple')\n",
        "plt.title('Box Plot before Outlier Removal')\n",
        "\n",
        "plt.subplot(1, 2, 2)\n",
        "sns.boxplot(y=df_cleaned['number_of_reviews'], color='purple')\n",
        "plt.title('Box Plot after Outlier Removal')"
      ],
      "metadata": {
        "colab": {
          "base_uri": "https://localhost:8080/",
          "height": 543
        },
        "id": "jaiWCkct18y6",
        "outputId": "d12dcd84-d042-41b0-d5b3-13a3f2bdeebe"
      },
      "execution_count": null,
      "outputs": [
        {
          "output_type": "execute_result",
          "data": {
            "text/plain": [
              "Text(0.5, 1.0, 'Box Plot after Outlier Removal')"
            ]
          },
          "metadata": {},
          "execution_count": 61
        },
        {
          "output_type": "display_data",
          "data": {
            "text/plain": [
              "<Figure size 1200x600 with 2 Axes>"
            ],
            "image/png": "[encoded data removed]"
          },
          "metadata": {}
        }
      ]
    },
    {
      "cell_type": "markdown",
      "source": [
        "**3.minimum_nights**"
      ],
      "metadata": {
        "id": "0-3ggynp2QA4"
      }
    },
    {
      "cell_type": "code",
      "source": [
        "threshold = 3\n",
        "mean = NYC['minimum_nights'].mean()\n",
        "std = NYC['minimum_nights'].std()\n",
        "\n",
        "NYC['outlier_flag'] = (NYC['minimum_nights'] - mean).abs() > threshold * std\n",
        "\n",
        "outliers = NYC[NYC['outlier_flag']]\n",
        "print(\"Outliers:\")\n",
        "print(outliers)"
      ],
      "metadata": {
        "colab": {
          "base_uri": "https://localhost:8080/"
        },
        "id": "MIj5YD6p2XkZ",
        "outputId": "e5eedde7-c560-4c0a-91ff-22afee6e7405"
      },
      "execution_count": null,
      "outputs": [
        {
          "output_type": "stream",
          "name": "stdout",
          "text": [
            "Outliers:\n",
            "             id                                             name    host_id  \\\n",
            "14         6090                    West Village Nest - Superhost      11975   \n",
            "61        15396               Sunny & Spacious Chelsea Apartment      60278   \n",
            "106       25235                Large 2 Bedroom Great for Groups!      87773   \n",
            "245       61509              Quiet, clean midtown apt w. elevato      23619   \n",
            "349       94209               LARGE 1BR (CONV 2BR) CROWN HEIGHTS     503800   \n",
            "...         ...                                              ...        ...   \n",
            "48043  36056808     Luxury TriBeCa Apartment at an amazing price  271248669   \n",
            "48145  36108714                Williamsburg Waterfront Apartment     212865   \n",
            "48205  36138789          Room with Amazing location in Manhattan   31846499   \n",
            "48312  36199363  Furnished room  for rent in Bronx SINGLE FEMALE  272247972   \n",
            "48446  36270376   Beautiful home on Staten Island, walk to ferry     444904   \n",
            "\n",
            "        host_name neighbourhood_group       neighbourhood  latitude  \\\n",
            "14          Alina           Manhattan        West Village  0.116471   \n",
            "61          Petra           Manhattan             Chelsea  0.316913   \n",
            "106        Shelly            Brooklyn  Bedford-Stuyvesant -0.829255   \n",
            "245    Anna/Fonzy           Manhattan             Midtown  0.523407   \n",
            "349        Sadatu            Brooklyn       Crown Heights -0.994303   \n",
            "...           ...                 ...                 ...       ...   \n",
            "48043       Jenny           Manhattan             Tribeca -0.309720   \n",
            "48145        Waad            Brooklyn        Williamsburg -0.155858   \n",
            "48205    Veronika           Manhattan         East Harlem  1.078152   \n",
            "48312      Kadeen               Bronx           Olinville  2.791353   \n",
            "48446      Janine       Staten Island          St. George -1.630289   \n",
            "\n",
            "       longitude        room_type      price  minimum_nights  \\\n",
            "14     -1.150015  Entire home/apt  -0.136250        4.045279   \n",
            "61     -0.934443  Entire home/apt   0.925579        8.433309   \n",
            "106     0.615293  Entire home/apt  -0.115430        4.045279   \n",
            "245    -0.363989  Entire home/apt  -0.177890        9.408427   \n",
            "349     0.156633  Entire home/apt  -0.219531        4.045279   \n",
            "...          ...              ...        ...             ...   \n",
            "48043  -1.252709  Entire home/apt  26.430289        8.433309   \n",
            "48145  -0.237463  Entire home/apt  -0.011329        4.045279   \n",
            "48205   0.127818     Private room  -0.331960        8.433309   \n",
            "48312   1.878393      Shared room  -0.531833        4.045279   \n",
            "48446  -2.766697  Entire home/apt  -0.219531       17.453150   \n",
            "\n",
            "       number_of_reviews last_review  reviews_per_month  \\\n",
            "14              0.083626  2018-10-31          -0.769964   \n",
            "61             -0.410200  2018-11-03          -0.836731   \n",
            "106             3.113920  2019-06-28           0.057939   \n",
            "245             1.542656  2019-04-30          -0.315953   \n",
            "349            -0.522433  2019-07-20           0.000000   \n",
            "...                  ...         ...                ...   \n",
            "48043          -0.522433  2019-07-20           0.000000   \n",
            "48145          -0.522433  2019-07-20           0.000000   \n",
            "48205          -0.522433  2019-07-20           0.000000   \n",
            "48312          -0.522433  2019-07-20           0.000000   \n",
            "48446          -0.522433  2019-07-20           0.000000   \n",
            "\n",
            "       calculated_host_listings_count  availability_365  review_year  \\\n",
            "14                          -0.186451         -0.856865         2018   \n",
            "61                          -0.186451          0.510699         2018   \n",
            "106                         -0.156104          0.184003         2019   \n",
            "245                         -0.186451          0.206796         2019   \n",
            "349                         -0.186451          1.916250         2019   \n",
            "...                               ...               ...          ...   \n",
            "48043                       -0.186451          1.916250         2019   \n",
            "48145                       -0.186451         -0.165485         2019   \n",
            "48205                       -0.186451         -0.856865         2019   \n",
            "48312                       -0.186451          0.586675         2019   \n",
            "48446                       -0.186451          1.741506         2019   \n",
            "\n",
            "       review_month  review_day  outlier_flag  \n",
            "14               10          31          True  \n",
            "61               11           3          True  \n",
            "106               6          28          True  \n",
            "245               4          30          True  \n",
            "349               7          20          True  \n",
            "...             ...         ...           ...  \n",
            "48043             7          20          True  \n",
            "48145             7          20          True  \n",
            "48205             7          20          True  \n",
            "48312             7          20          True  \n",
            "48446             7          20          True  \n",
            "\n",
            "[327 rows x 20 columns]\n"
          ]
        }
      ]
    },
    {
      "cell_type": "code",
      "source": [
        "Q1 = NYC['minimum_nights'].quantile(0.25)\n",
        "Q3 = NYC['minimum_nights'].quantile(0.75)\n",
        "IQR = Q3 - Q1\n",
        "\n",
        "lower_bound = Q1 - 1.5 * IQR\n",
        "upper_bound = Q3 + 1.5 * IQR\n",
        "\n",
        "df_cleaned = NYC[(NYC['minimum_nights'] >= lower_bound) & (NYC['minimum_nights'] <= upper_bound)]"
      ],
      "metadata": {
        "id": "S8Q2XP0U2x19"
      },
      "execution_count": null,
      "outputs": []
    },
    {
      "cell_type": "code",
      "source": [
        "plt.figure(figsize=(12, 6))\n",
        "plt.subplot(1, 2, 1)\n",
        "sns.boxplot(y=NYC['minimum_nights'], color ='purple')\n",
        "plt.title('Box Plot before Outlier Removal')\n",
        "\n",
        "plt.subplot(1, 2, 2)\n",
        "sns.boxplot(y=df_cleaned['minimum_nights'], color='purple')\n",
        "plt.title('Box Plot after Outlier Removal')"
      ],
      "metadata": {
        "colab": {
          "base_uri": "https://localhost:8080/",
          "height": 543
        },
        "id": "_nX_ag0S28fH",
        "outputId": "10320f31-c718-4634-a5b2-51a4a01a338b"
      },
      "execution_count": null,
      "outputs": [
        {
          "output_type": "execute_result",
          "data": {
            "text/plain": [
              "Text(0.5, 1.0, 'Box Plot after Outlier Removal')"
            ]
          },
          "metadata": {},
          "execution_count": 64
        },
        {
          "output_type": "display_data",
          "data": {
            "text/plain": [
              "<Figure size 1200x600 with 2 Axes>"
            ],
            "image/png": "[encoded data removed]"
          },
          "metadata": {}
        }
      ]
    },
    {
      "cell_type": "markdown",
      "source": [
        "**4.reviews_per_month**"
      ],
      "metadata": {
        "id": "5MyYST5X3Iy3"
      }
    },
    {
      "cell_type": "code",
      "source": [
        "threshold = 3\n",
        "mean = NYC['reviews_per_month'].mean()\n",
        "std = NYC['reviews_per_month'].std()\n",
        "\n",
        "NYC['outlier_flag'] = (NYC['reviews_per_month'] - mean).abs() > threshold * std\n",
        "\n",
        "outliers = NYC[NYC['outlier_flag']]\n",
        "print(\"Outliers:\")\n",
        "print(outliers)"
      ],
      "metadata": {
        "colab": {
          "base_uri": "https://localhost:8080/"
        },
        "id": "XN88sFSH3sid",
        "outputId": "36165366-dadd-466d-8a5f-4323fb72a4ea"
      },
      "execution_count": null,
      "outputs": [
        {
          "output_type": "stream",
          "name": "stdout",
          "text": [
            "Outliers:\n",
            "             id                                               name    host_id  \\\n",
            "471      166172                    LG Private Room/Family Friendly     792159   \n",
            "534      195233  Hospitality on Propsect Pk-12 yrs Hosting Lega...     949221   \n",
            "553      205043                            Modern Condo in Midtown    1007558   \n",
            "1614     732700                Centrally located and spacious apt.    3815537   \n",
            "1627     741154                Beautiful duplex loft with Skylight    1406458   \n",
            "...         ...                                                ...        ...   \n",
            "47579  35808578              Sunny, Comfortably Cozy, Private Room  269375490   \n",
            "47585  35811237     Centrally located spacious 1-bedroom apartment  269401661   \n",
            "47708  35875858  #3 Hotel-Like LOFT Private Room KING Bed Near JFK  263504959   \n",
            "47967  36004542             Cosy Bedroom in the Heart of Manhattan   30461045   \n",
            "48031  36041065        Large bedroom with private bathroom is suit  225118276   \n",
            "\n",
            "                 host_name neighbourhood_group              neighbourhood  \\\n",
            "471                  Wanda            Brooklyn                   Bushwick   \n",
            "534                 Dennis            Brooklyn  Prospect-Lefferts Gardens   \n",
            "553    Welcome To My Place           Manhattan           Theater District   \n",
            "1614                Reshma           Manhattan                    Midtown   \n",
            "1627                 Nancy           Manhattan                    Tribeca   \n",
            "...                    ...                 ...                        ...   \n",
            "47579                 Rena            Brooklyn                   Canarsie   \n",
            "47585                 Nick           Manhattan                Murray Hill   \n",
            "47708                David              Queens                  Woodhaven   \n",
            "47967               Dayana           Manhattan                    Midtown   \n",
            "48031        Alex And Mila            Brooklyn         Bedford-Stuyvesant   \n",
            "\n",
            "       latitude  longitude        room_type     price  minimum_nights  \\\n",
            "471   -0.478986   0.668590     Private room -0.386092       -0.196484   \n",
            "534   -1.353742  -0.091870     Private room -0.456881       -0.293996   \n",
            "553    0.550181  -0.782784     Private room -0.011329       -0.293996   \n",
            "1614   0.414292  -0.408837  Entire home/apt -0.194547       -0.001461   \n",
            "1627  -0.204823  -1.134199  Entire home/apt  0.238513        0.339830   \n",
            "...         ...        ...              ...       ...             ...   \n",
            "47579 -1.527226   1.327222     Private room -0.448553       -0.293996   \n",
            "47585  0.375414  -0.639791  Entire home/apt -0.240351       -0.293996   \n",
            "47708 -0.659622   1.911108     Private room -0.427732       -0.293996   \n",
            "47967  0.639857  -0.656691     Private room -0.115430       -0.293996   \n",
            "48031 -0.827971   0.511948     Private room -0.323632       -0.293996   \n",
            "\n",
            "       number_of_reviews last_review  reviews_per_month  \\\n",
            "471            10.251947  2019-07-07           3.556498   \n",
            "534             8.478664  2019-07-04           3.503085   \n",
            "553             6.884953  2019-06-20           3.850270   \n",
            "1614           -0.297967  2019-07-06           5.759789   \n",
            "1627           -0.297967  2019-07-04           5.759789   \n",
            "...                  ...         ...                ...   \n",
            "47579          -0.365307  2019-07-06           3.756797   \n",
            "47585          -0.365307  2019-06-29           3.756797   \n",
            "47708          -0.387753  2019-07-04           3.089133   \n",
            "47967          -0.387753  2019-07-01           3.089133   \n",
            "48031          -0.365307  2019-07-06           3.756797   \n",
            "\n",
            "       calculated_host_listings_count  availability_365  review_year  \\\n",
            "471                         -0.186451         -0.856865         2019   \n",
            "534                         -0.156104         -0.530169         2019   \n",
            "553                         -0.186451         -0.013534         2019   \n",
            "1614                        -0.186451         -0.856865         2019   \n",
            "1627                        -0.186451         -0.856865         2019   \n",
            "...                               ...               ...          ...   \n",
            "47579                       -0.186451         -0.340229         2019   \n",
            "47585                       -0.186451         -0.446596         2019   \n",
            "47708                        0.025978          1.331237         2019   \n",
            "47967                       -0.186451          0.221991         2019   \n",
            "48031                       -0.186451          1.619945         2019   \n",
            "\n",
            "       review_month  review_day  outlier_flag  \n",
            "471               7           7          True  \n",
            "534               7           4          True  \n",
            "553               6          20          True  \n",
            "1614              7           6          True  \n",
            "1627              7           4          True  \n",
            "...             ...         ...           ...  \n",
            "47579             7           6          True  \n",
            "47585             6          29          True  \n",
            "47708             7           4          True  \n",
            "47967             7           1          True  \n",
            "48031             7           6          True  \n",
            "\n",
            "[862 rows x 20 columns]\n"
          ]
        }
      ]
    },
    {
      "cell_type": "code",
      "source": [
        "Q1 = NYC['reviews_per_month'].quantile(0.25)\n",
        "Q3 = NYC['reviews_per_month'].quantile(0.75)\n",
        "IQR = Q3 - Q1\n",
        "\n",
        "lower_bound = Q1 - 1.5 * IQR\n",
        "upper_bound = Q3 + 1.5 * IQR\n",
        "\n",
        "df_cleaned = NYC[(NYC['reviews_per_month'] >= lower_bound) & (NYC['reviews_per_month'] <= upper_bound)]"
      ],
      "metadata": {
        "id": "voFwFjJp4C-T"
      },
      "execution_count": null,
      "outputs": []
    },
    {
      "cell_type": "code",
      "source": [
        "plt.figure(figsize=(12, 6))\n",
        "plt.subplot(1, 2, 1)\n",
        "sns.boxplot(y=NYC['reviews_per_month'], color ='purple')\n",
        "plt.title('Box Plot before Outlier Removal')\n",
        "\n",
        "plt.subplot(1, 2, 2)\n",
        "sns.boxplot(y=df_cleaned['reviews_per_month'], color='purple')\n",
        "plt.title('Box Plot after Outlier Removal')"
      ],
      "metadata": {
        "colab": {
          "base_uri": "https://localhost:8080/",
          "height": 543
        },
        "id": "bjNfRzon4VvR",
        "outputId": "7e8dc049-da94-4b9a-a970-9205d6166132"
      },
      "execution_count": null,
      "outputs": [
        {
          "output_type": "execute_result",
          "data": {
            "text/plain": [
              "Text(0.5, 1.0, 'Box Plot after Outlier Removal')"
            ]
          },
          "metadata": {},
          "execution_count": 67
        },
        {
          "output_type": "display_data",
          "data": {
            "text/plain": [
              "<Figure size 1200x600 with 2 Axes>"
            ],
            "image/png": "[encoded data removed]"
          },
          "metadata": {}
        }
      ]
    },
    {
      "cell_type": "code",
      "source": [
        "# Saving the cleaned DataFrame to a new CSV file\n",
        "NYC.to_csv('cleaned_NYC_airbnb_data.csv', index=False)"
      ],
      "metadata": {
        "id": "7019GTIn-rAW"
      },
      "execution_count": null,
      "outputs": []
    },
    {
      "cell_type": "code",
      "source": [
        "import pandas as pd\n",
        "df_cleaned = pd.read_csv('cleaned_NYC_airbnb_data.csv')"
      ],
      "metadata": {
        "id": "_jD5veNY-zdl"
      },
      "execution_count": null,
      "outputs": []
    },
    {
      "cell_type": "code",
      "source": [
        "from google.colab import files\n",
        "files.download('cleaned_NYC_airbnb_data.csv')"
      ],
      "metadata": {
        "colab": {
          "base_uri": "https://localhost:8080/",
          "height": 34
        },
        "id": "qyQ2BqR7-4i-",
        "outputId": "5c6c09f2-3d9b-4bed-c0a2-d8e47c28aa7c"
      },
      "execution_count": null,
      "outputs": [
        {
          "output_type": "display_data",
          "data": {
            "text/plain": [
              "<IPython.core.display.Javascript object>"
            ],
            "application/javascript": [
              "\n",
              "    async function download(id, filename, size) {\n",
              "      if (!google.colab.kernel.accessAllowed) {\n",
              "        return;\n",
              "      }\n",
              "      const div = document.createElement('div');\n",
              "      const label = document.createElement('label');\n",
              "      label.textContent = `Downloading \"${filename}\": `;\n",
              "      div.appendChild(label);\n",
              "      const progress = document.createElement('progress');\n",
              "      progress.max = size;\n",
              "      div.appendChild(progress);\n",
              "      document.body.appendChild(div);\n",
              "\n",
              "      const buffers = [];\n",
              "      let downloaded = 0;\n",
              "\n",
              "      const channel = await google.colab.kernel.comms.open(id);\n",
              "      // Send a message to notify the kernel that we're ready.\n",
              "      channel.send({})\n",
              "\n",
              "      for await (const message of channel.messages) {\n",
              "        // Send a message to notify the kernel that we're ready.\n",
              "        channel.send({})\n",
              "        if (message.buffers) {\n",
              "          for (const buffer of message.buffers) {\n",
              "            buffers.push(buffer);\n",
              "            downloaded += buffer.byteLength;\n",
              "            progress.value = downloaded;\n",
              "          }\n",
              "        }\n",
              "      }\n",
              "      const blob = new Blob(buffers, {type: 'application/binary'});\n",
              "      const a = document.createElement('a');\n",
              "      a.href = window.URL.createObjectURL(blob);\n",
              "      a.download = filename;\n",
              "      div.appendChild(a);\n",
              "      a.click();\n",
              "      div.remove();\n",
              "    }\n",
              "  "
            ]
          },
          "metadata": {}
        },
        {
          "output_type": "display_data",
          "data": {
            "text/plain": [
              "<IPython.core.display.Javascript object>"
            ],
            "application/javascript": [
              "download(\"download_2ac00f9e-7c82-4713-a207-181f1b7a0f52\", \"cleaned_NYC_airbnb_data.csv\", 13843844)"
            ]
          },
          "metadata": {}
        }
      ]
    }
  ]
}